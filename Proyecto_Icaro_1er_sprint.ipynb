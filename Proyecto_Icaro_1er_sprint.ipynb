{
  "nbformat": 4,
  "nbformat_minor": 0,
  "metadata": {
    "colab": {
      "name": "Proyecto Icaro 1er sprint ",
      "provenance": []
    },
    "kernelspec": {
      "name": "python3",
      "display_name": "Python 3"
    },
    "language_info": {
      "name": "python"
    }
  },
  "cells": [
    {
      "cell_type": "markdown",
      "metadata": {
        "id": "eLXzsdV64sKT"
      },
      "source": [
        "**GRUPO 1**\n",
        "\n",
        "- Daniel Aguilera\n",
        "- Gianella Salluzzi\n",
        "- Gisela Turletti\n",
        "- Guillermo More\n",
        "- Marcos Savy "
      ]
    },
    {
      "cell_type": "markdown",
      "metadata": {
        "id": "uh5VVUID5LsL"
      },
      "source": [
        "Fecha de Entrega: 03/10/2021\n"
      ]
    },
    {
      "cell_type": "markdown",
      "metadata": {
        "id": "SqYRfMwhbiUx"
      },
      "source": [
        "##Importamos las librerías"
      ]
    },
    {
      "cell_type": "code",
      "metadata": {
        "id": "X8XYTEeIc3E1"
      },
      "source": [
        "import numpy as np\n",
        "import pandas as pd\n",
        "\n",
        "#visualización de librerías\n",
        "import matplotlib.pyplot as plt\n",
        "import seaborn as sns\n",
        "\n",
        "#preprocesamiento\n",
        "from sklearn.preprocessing import LabelEncoder\n",
        "from sklearn.preprocessing import StandardScaler\n",
        "\n",
        "#separar el dataset en train y test \n",
        "from sklearn.model_selection import train_test_split\n",
        "\n",
        "#modelos para predicción\n",
        "from sklearn.neighbors import KNeighborsClassifier\n",
        "from sklearn.tree import DecisionTreeClassifier\n",
        "\n",
        "#modelos en conjunto para mejor rendimiento\n",
        "from sklearn.ensemble import RandomForestClassifier\n",
        "\n",
        "#métricas\n",
        "from sklearn.metrics import accuracy_score\n",
        "from sklearn.metrics import f1_score\n",
        "\n",
        "#matriz\n",
        "from sklearn.metrics import confusion_matrix\n",
        "from sklearn.metrics import plot_confusion_matrix\n",
        "\n",
        "#ignore warning to make notebook prettier\n",
        "import warnings\n",
        "warnings.filterwarnings('ignore')"
      ],
      "execution_count": null,
      "outputs": []
    },
    {
      "cell_type": "markdown",
      "metadata": {
        "id": "59SD0dfccKtV"
      },
      "source": [
        "##Importamos los datasets"
      ]
    },
    {
      "cell_type": "code",
      "metadata": {
        "colab": {
          "base_uri": "https://localhost:8080/"
        },
        "id": "c22u0xwcdO57",
        "outputId": "3178eb6d-a715-4f29-a031-1c56db8ae3e7"
      },
      "source": [
        "from google.colab import drive\n",
        "drive.mount('/content/drive')"
      ],
      "execution_count": null,
      "outputs": [
        {
          "output_type": "stream",
          "name": "stdout",
          "text": [
            "Drive already mounted at /content/drive; to attempt to forcibly remount, call drive.mount(\"/content/drive\", force_remount=True).\n"
          ]
        }
      ]
    },
    {
      "cell_type": "code",
      "metadata": {
        "id": "L6cUTXQHdSP4",
        "colab": {
          "base_uri": "https://localhost:8080/",
          "height": 313
        },
        "outputId": "5cea9ce7-285a-44f9-9c44-c6c84254a32a"
      },
      "source": [
        "df_train = pd.read_csv('drive/MyDrive/Data Science ICARO/Projects/train.csv', na_values= \"?\").drop(['index'], axis=1) \n",
        "df_train.head()"
      ],
      "execution_count": null,
      "outputs": [
        {
          "output_type": "execute_result",
          "data": {
            "text/html": [
              "<div>\n",
              "<style scoped>\n",
              "    .dataframe tbody tr th:only-of-type {\n",
              "        vertical-align: middle;\n",
              "    }\n",
              "\n",
              "    .dataframe tbody tr th {\n",
              "        vertical-align: top;\n",
              "    }\n",
              "\n",
              "    .dataframe thead th {\n",
              "        text-align: right;\n",
              "    }\n",
              "</style>\n",
              "<table border=\"1\" class=\"dataframe\">\n",
              "  <thead>\n",
              "    <tr style=\"text-align: right;\">\n",
              "      <th></th>\n",
              "      <th>age</th>\n",
              "      <th>workclass</th>\n",
              "      <th>education</th>\n",
              "      <th>education.num</th>\n",
              "      <th>marital.status</th>\n",
              "      <th>occupation</th>\n",
              "      <th>relationship</th>\n",
              "      <th>race</th>\n",
              "      <th>sex</th>\n",
              "      <th>capital.gain</th>\n",
              "      <th>capital.loss</th>\n",
              "      <th>hours.per.week</th>\n",
              "      <th>native.country</th>\n",
              "      <th>income</th>\n",
              "      <th>ID</th>\n",
              "    </tr>\n",
              "  </thead>\n",
              "  <tbody>\n",
              "    <tr>\n",
              "      <th>0</th>\n",
              "      <td>30</td>\n",
              "      <td>Local-gov</td>\n",
              "      <td>HS-grad</td>\n",
              "      <td>9</td>\n",
              "      <td>Divorced</td>\n",
              "      <td>Protective-serv</td>\n",
              "      <td>Own-child</td>\n",
              "      <td>White</td>\n",
              "      <td>Female</td>\n",
              "      <td>0</td>\n",
              "      <td>0</td>\n",
              "      <td>32</td>\n",
              "      <td>United-States</td>\n",
              "      <td>&lt;=50K</td>\n",
              "      <td>24451</td>\n",
              "    </tr>\n",
              "    <tr>\n",
              "      <th>1</th>\n",
              "      <td>37</td>\n",
              "      <td>Private</td>\n",
              "      <td>Bachelors</td>\n",
              "      <td>13</td>\n",
              "      <td>Married-civ-spouse</td>\n",
              "      <td>Exec-managerial</td>\n",
              "      <td>Wife</td>\n",
              "      <td>White</td>\n",
              "      <td>Female</td>\n",
              "      <td>0</td>\n",
              "      <td>1848</td>\n",
              "      <td>40</td>\n",
              "      <td>United-States</td>\n",
              "      <td>&gt;50K</td>\n",
              "      <td>985</td>\n",
              "    </tr>\n",
              "    <tr>\n",
              "      <th>2</th>\n",
              "      <td>41</td>\n",
              "      <td>Private</td>\n",
              "      <td>HS-grad</td>\n",
              "      <td>9</td>\n",
              "      <td>Married-civ-spouse</td>\n",
              "      <td>Craft-repair</td>\n",
              "      <td>Husband</td>\n",
              "      <td>White</td>\n",
              "      <td>Male</td>\n",
              "      <td>0</td>\n",
              "      <td>0</td>\n",
              "      <td>60</td>\n",
              "      <td>United-States</td>\n",
              "      <td>&gt;50K</td>\n",
              "      <td>30229</td>\n",
              "    </tr>\n",
              "    <tr>\n",
              "      <th>3</th>\n",
              "      <td>45</td>\n",
              "      <td>Private</td>\n",
              "      <td>Bachelors</td>\n",
              "      <td>13</td>\n",
              "      <td>Married-civ-spouse</td>\n",
              "      <td>Prof-specialty</td>\n",
              "      <td>Husband</td>\n",
              "      <td>White</td>\n",
              "      <td>Male</td>\n",
              "      <td>0</td>\n",
              "      <td>0</td>\n",
              "      <td>60</td>\n",
              "      <td>United-States</td>\n",
              "      <td>&gt;50K</td>\n",
              "      <td>7107</td>\n",
              "    </tr>\n",
              "    <tr>\n",
              "      <th>4</th>\n",
              "      <td>28</td>\n",
              "      <td>Private</td>\n",
              "      <td>HS-grad</td>\n",
              "      <td>9</td>\n",
              "      <td>Never-married</td>\n",
              "      <td>Exec-managerial</td>\n",
              "      <td>Not-in-family</td>\n",
              "      <td>White</td>\n",
              "      <td>Female</td>\n",
              "      <td>0</td>\n",
              "      <td>0</td>\n",
              "      <td>40</td>\n",
              "      <td>United-States</td>\n",
              "      <td>&lt;=50K</td>\n",
              "      <td>27639</td>\n",
              "    </tr>\n",
              "  </tbody>\n",
              "</table>\n",
              "</div>"
            ],
            "text/plain": [
              "   age  workclass  education  ...  native.country income     ID\n",
              "0   30  Local-gov    HS-grad  ...   United-States  <=50K  24451\n",
              "1   37    Private  Bachelors  ...   United-States   >50K    985\n",
              "2   41    Private    HS-grad  ...   United-States   >50K  30229\n",
              "3   45    Private  Bachelors  ...   United-States   >50K   7107\n",
              "4   28    Private    HS-grad  ...   United-States  <=50K  27639\n",
              "\n",
              "[5 rows x 15 columns]"
            ]
          },
          "metadata": {},
          "execution_count": 800
        }
      ]
    },
    {
      "cell_type": "markdown",
      "metadata": {
        "id": "RA0W0omSWxRN"
      },
      "source": [
        "Eliminamos el índice ya que no lo consideramos necesarios."
      ]
    },
    {
      "cell_type": "code",
      "metadata": {
        "colab": {
          "base_uri": "https://localhost:8080/",
          "height": 296
        },
        "id": "eY1Xxm_NTOI9",
        "outputId": "93eeae59-dd66-4314-fd5a-5937f1a6b3bf"
      },
      "source": [
        "df_test = pd.read_csv('drive/MyDrive/Data Science ICARO/Projects/test.csv', na_values= \"?\").drop(['index'], axis=1) \n",
        "df_test.head()"
      ],
      "execution_count": null,
      "outputs": [
        {
          "output_type": "execute_result",
          "data": {
            "text/html": [
              "<div>\n",
              "<style scoped>\n",
              "    .dataframe tbody tr th:only-of-type {\n",
              "        vertical-align: middle;\n",
              "    }\n",
              "\n",
              "    .dataframe tbody tr th {\n",
              "        vertical-align: top;\n",
              "    }\n",
              "\n",
              "    .dataframe thead th {\n",
              "        text-align: right;\n",
              "    }\n",
              "</style>\n",
              "<table border=\"1\" class=\"dataframe\">\n",
              "  <thead>\n",
              "    <tr style=\"text-align: right;\">\n",
              "      <th></th>\n",
              "      <th>age</th>\n",
              "      <th>workclass</th>\n",
              "      <th>education</th>\n",
              "      <th>education.num</th>\n",
              "      <th>marital.status</th>\n",
              "      <th>occupation</th>\n",
              "      <th>relationship</th>\n",
              "      <th>race</th>\n",
              "      <th>sex</th>\n",
              "      <th>capital.gain</th>\n",
              "      <th>capital.loss</th>\n",
              "      <th>hours.per.week</th>\n",
              "      <th>native.country</th>\n",
              "      <th>ID</th>\n",
              "    </tr>\n",
              "  </thead>\n",
              "  <tbody>\n",
              "    <tr>\n",
              "      <th>0</th>\n",
              "      <td>53</td>\n",
              "      <td>Private</td>\n",
              "      <td>Some-college</td>\n",
              "      <td>10</td>\n",
              "      <td>Married-civ-spouse</td>\n",
              "      <td>Machine-op-inspct</td>\n",
              "      <td>Husband</td>\n",
              "      <td>White</td>\n",
              "      <td>Male</td>\n",
              "      <td>3137</td>\n",
              "      <td>0</td>\n",
              "      <td>40</td>\n",
              "      <td>United-States</td>\n",
              "      <td>3643</td>\n",
              "    </tr>\n",
              "    <tr>\n",
              "      <th>1</th>\n",
              "      <td>18</td>\n",
              "      <td>NaN</td>\n",
              "      <td>11th</td>\n",
              "      <td>7</td>\n",
              "      <td>Never-married</td>\n",
              "      <td>NaN</td>\n",
              "      <td>Own-child</td>\n",
              "      <td>White</td>\n",
              "      <td>Male</td>\n",
              "      <td>0</td>\n",
              "      <td>0</td>\n",
              "      <td>25</td>\n",
              "      <td>United-States</td>\n",
              "      <td>16036</td>\n",
              "    </tr>\n",
              "    <tr>\n",
              "      <th>2</th>\n",
              "      <td>42</td>\n",
              "      <td>Private</td>\n",
              "      <td>Some-college</td>\n",
              "      <td>10</td>\n",
              "      <td>Married-civ-spouse</td>\n",
              "      <td>Machine-op-inspct</td>\n",
              "      <td>Wife</td>\n",
              "      <td>White</td>\n",
              "      <td>Female</td>\n",
              "      <td>0</td>\n",
              "      <td>0</td>\n",
              "      <td>37</td>\n",
              "      <td>United-States</td>\n",
              "      <td>9401</td>\n",
              "    </tr>\n",
              "    <tr>\n",
              "      <th>3</th>\n",
              "      <td>49</td>\n",
              "      <td>Self-emp-inc</td>\n",
              "      <td>Doctorate</td>\n",
              "      <td>16</td>\n",
              "      <td>Married-civ-spouse</td>\n",
              "      <td>Prof-specialty</td>\n",
              "      <td>Husband</td>\n",
              "      <td>Black</td>\n",
              "      <td>Male</td>\n",
              "      <td>0</td>\n",
              "      <td>0</td>\n",
              "      <td>60</td>\n",
              "      <td>United-States</td>\n",
              "      <td>17903</td>\n",
              "    </tr>\n",
              "    <tr>\n",
              "      <th>4</th>\n",
              "      <td>58</td>\n",
              "      <td>Local-gov</td>\n",
              "      <td>Bachelors</td>\n",
              "      <td>13</td>\n",
              "      <td>Married-civ-spouse</td>\n",
              "      <td>Prof-specialty</td>\n",
              "      <td>Wife</td>\n",
              "      <td>White</td>\n",
              "      <td>Female</td>\n",
              "      <td>0</td>\n",
              "      <td>0</td>\n",
              "      <td>40</td>\n",
              "      <td>United-States</td>\n",
              "      <td>5198</td>\n",
              "    </tr>\n",
              "  </tbody>\n",
              "</table>\n",
              "</div>"
            ],
            "text/plain": [
              "   age     workclass     education  ...  hours.per.week native.country     ID\n",
              "0   53       Private  Some-college  ...              40  United-States   3643\n",
              "1   18           NaN          11th  ...              25  United-States  16036\n",
              "2   42       Private  Some-college  ...              37  United-States   9401\n",
              "3   49  Self-emp-inc     Doctorate  ...              60  United-States  17903\n",
              "4   58     Local-gov     Bachelors  ...              40  United-States   5198\n",
              "\n",
              "[5 rows x 14 columns]"
            ]
          },
          "metadata": {},
          "execution_count": 801
        }
      ]
    },
    {
      "cell_type": "code",
      "metadata": {
        "id": "g8di31QVddW6",
        "colab": {
          "base_uri": "https://localhost:8080/",
          "height": 344
        },
        "outputId": "214fa3a6-8a6e-4216-bc6d-416e2dbfdecd"
      },
      "source": [
        "df_train = df_train.set_index(['ID'])\n",
        "df_train.head()"
      ],
      "execution_count": null,
      "outputs": [
        {
          "output_type": "execute_result",
          "data": {
            "text/html": [
              "<div>\n",
              "<style scoped>\n",
              "    .dataframe tbody tr th:only-of-type {\n",
              "        vertical-align: middle;\n",
              "    }\n",
              "\n",
              "    .dataframe tbody tr th {\n",
              "        vertical-align: top;\n",
              "    }\n",
              "\n",
              "    .dataframe thead th {\n",
              "        text-align: right;\n",
              "    }\n",
              "</style>\n",
              "<table border=\"1\" class=\"dataframe\">\n",
              "  <thead>\n",
              "    <tr style=\"text-align: right;\">\n",
              "      <th></th>\n",
              "      <th>age</th>\n",
              "      <th>workclass</th>\n",
              "      <th>education</th>\n",
              "      <th>education.num</th>\n",
              "      <th>marital.status</th>\n",
              "      <th>occupation</th>\n",
              "      <th>relationship</th>\n",
              "      <th>race</th>\n",
              "      <th>sex</th>\n",
              "      <th>capital.gain</th>\n",
              "      <th>capital.loss</th>\n",
              "      <th>hours.per.week</th>\n",
              "      <th>native.country</th>\n",
              "      <th>income</th>\n",
              "    </tr>\n",
              "    <tr>\n",
              "      <th>ID</th>\n",
              "      <th></th>\n",
              "      <th></th>\n",
              "      <th></th>\n",
              "      <th></th>\n",
              "      <th></th>\n",
              "      <th></th>\n",
              "      <th></th>\n",
              "      <th></th>\n",
              "      <th></th>\n",
              "      <th></th>\n",
              "      <th></th>\n",
              "      <th></th>\n",
              "      <th></th>\n",
              "      <th></th>\n",
              "    </tr>\n",
              "  </thead>\n",
              "  <tbody>\n",
              "    <tr>\n",
              "      <th>24451</th>\n",
              "      <td>30</td>\n",
              "      <td>Local-gov</td>\n",
              "      <td>HS-grad</td>\n",
              "      <td>9</td>\n",
              "      <td>Divorced</td>\n",
              "      <td>Protective-serv</td>\n",
              "      <td>Own-child</td>\n",
              "      <td>White</td>\n",
              "      <td>Female</td>\n",
              "      <td>0</td>\n",
              "      <td>0</td>\n",
              "      <td>32</td>\n",
              "      <td>United-States</td>\n",
              "      <td>&lt;=50K</td>\n",
              "    </tr>\n",
              "    <tr>\n",
              "      <th>985</th>\n",
              "      <td>37</td>\n",
              "      <td>Private</td>\n",
              "      <td>Bachelors</td>\n",
              "      <td>13</td>\n",
              "      <td>Married-civ-spouse</td>\n",
              "      <td>Exec-managerial</td>\n",
              "      <td>Wife</td>\n",
              "      <td>White</td>\n",
              "      <td>Female</td>\n",
              "      <td>0</td>\n",
              "      <td>1848</td>\n",
              "      <td>40</td>\n",
              "      <td>United-States</td>\n",
              "      <td>&gt;50K</td>\n",
              "    </tr>\n",
              "    <tr>\n",
              "      <th>30229</th>\n",
              "      <td>41</td>\n",
              "      <td>Private</td>\n",
              "      <td>HS-grad</td>\n",
              "      <td>9</td>\n",
              "      <td>Married-civ-spouse</td>\n",
              "      <td>Craft-repair</td>\n",
              "      <td>Husband</td>\n",
              "      <td>White</td>\n",
              "      <td>Male</td>\n",
              "      <td>0</td>\n",
              "      <td>0</td>\n",
              "      <td>60</td>\n",
              "      <td>United-States</td>\n",
              "      <td>&gt;50K</td>\n",
              "    </tr>\n",
              "    <tr>\n",
              "      <th>7107</th>\n",
              "      <td>45</td>\n",
              "      <td>Private</td>\n",
              "      <td>Bachelors</td>\n",
              "      <td>13</td>\n",
              "      <td>Married-civ-spouse</td>\n",
              "      <td>Prof-specialty</td>\n",
              "      <td>Husband</td>\n",
              "      <td>White</td>\n",
              "      <td>Male</td>\n",
              "      <td>0</td>\n",
              "      <td>0</td>\n",
              "      <td>60</td>\n",
              "      <td>United-States</td>\n",
              "      <td>&gt;50K</td>\n",
              "    </tr>\n",
              "    <tr>\n",
              "      <th>27639</th>\n",
              "      <td>28</td>\n",
              "      <td>Private</td>\n",
              "      <td>HS-grad</td>\n",
              "      <td>9</td>\n",
              "      <td>Never-married</td>\n",
              "      <td>Exec-managerial</td>\n",
              "      <td>Not-in-family</td>\n",
              "      <td>White</td>\n",
              "      <td>Female</td>\n",
              "      <td>0</td>\n",
              "      <td>0</td>\n",
              "      <td>40</td>\n",
              "      <td>United-States</td>\n",
              "      <td>&lt;=50K</td>\n",
              "    </tr>\n",
              "  </tbody>\n",
              "</table>\n",
              "</div>"
            ],
            "text/plain": [
              "       age  workclass  education  ...  hours.per.week native.country income\n",
              "ID                                ...                                      \n",
              "24451   30  Local-gov    HS-grad  ...              32  United-States  <=50K\n",
              "985     37    Private  Bachelors  ...              40  United-States   >50K\n",
              "30229   41    Private    HS-grad  ...              60  United-States   >50K\n",
              "7107    45    Private  Bachelors  ...              60  United-States   >50K\n",
              "27639   28    Private    HS-grad  ...              40  United-States  <=50K\n",
              "\n",
              "[5 rows x 14 columns]"
            ]
          },
          "metadata": {},
          "execution_count": 802
        }
      ]
    },
    {
      "cell_type": "markdown",
      "metadata": {
        "id": "DyQHn4OgWt7Z"
      },
      "source": [
        "Hacemos lo mismo para df_test"
      ]
    },
    {
      "cell_type": "code",
      "metadata": {
        "colab": {
          "base_uri": "https://localhost:8080/",
          "height": 327
        },
        "id": "hfHgPZHZWimd",
        "outputId": "f5226e72-f475-408d-a050-1d96a1375960"
      },
      "source": [
        "df_test = df_test.set_index(['ID'])\n",
        "df_test.head()"
      ],
      "execution_count": null,
      "outputs": [
        {
          "output_type": "execute_result",
          "data": {
            "text/html": [
              "<div>\n",
              "<style scoped>\n",
              "    .dataframe tbody tr th:only-of-type {\n",
              "        vertical-align: middle;\n",
              "    }\n",
              "\n",
              "    .dataframe tbody tr th {\n",
              "        vertical-align: top;\n",
              "    }\n",
              "\n",
              "    .dataframe thead th {\n",
              "        text-align: right;\n",
              "    }\n",
              "</style>\n",
              "<table border=\"1\" class=\"dataframe\">\n",
              "  <thead>\n",
              "    <tr style=\"text-align: right;\">\n",
              "      <th></th>\n",
              "      <th>age</th>\n",
              "      <th>workclass</th>\n",
              "      <th>education</th>\n",
              "      <th>education.num</th>\n",
              "      <th>marital.status</th>\n",
              "      <th>occupation</th>\n",
              "      <th>relationship</th>\n",
              "      <th>race</th>\n",
              "      <th>sex</th>\n",
              "      <th>capital.gain</th>\n",
              "      <th>capital.loss</th>\n",
              "      <th>hours.per.week</th>\n",
              "      <th>native.country</th>\n",
              "    </tr>\n",
              "    <tr>\n",
              "      <th>ID</th>\n",
              "      <th></th>\n",
              "      <th></th>\n",
              "      <th></th>\n",
              "      <th></th>\n",
              "      <th></th>\n",
              "      <th></th>\n",
              "      <th></th>\n",
              "      <th></th>\n",
              "      <th></th>\n",
              "      <th></th>\n",
              "      <th></th>\n",
              "      <th></th>\n",
              "      <th></th>\n",
              "    </tr>\n",
              "  </thead>\n",
              "  <tbody>\n",
              "    <tr>\n",
              "      <th>3643</th>\n",
              "      <td>53</td>\n",
              "      <td>Private</td>\n",
              "      <td>Some-college</td>\n",
              "      <td>10</td>\n",
              "      <td>Married-civ-spouse</td>\n",
              "      <td>Machine-op-inspct</td>\n",
              "      <td>Husband</td>\n",
              "      <td>White</td>\n",
              "      <td>Male</td>\n",
              "      <td>3137</td>\n",
              "      <td>0</td>\n",
              "      <td>40</td>\n",
              "      <td>United-States</td>\n",
              "    </tr>\n",
              "    <tr>\n",
              "      <th>16036</th>\n",
              "      <td>18</td>\n",
              "      <td>NaN</td>\n",
              "      <td>11th</td>\n",
              "      <td>7</td>\n",
              "      <td>Never-married</td>\n",
              "      <td>NaN</td>\n",
              "      <td>Own-child</td>\n",
              "      <td>White</td>\n",
              "      <td>Male</td>\n",
              "      <td>0</td>\n",
              "      <td>0</td>\n",
              "      <td>25</td>\n",
              "      <td>United-States</td>\n",
              "    </tr>\n",
              "    <tr>\n",
              "      <th>9401</th>\n",
              "      <td>42</td>\n",
              "      <td>Private</td>\n",
              "      <td>Some-college</td>\n",
              "      <td>10</td>\n",
              "      <td>Married-civ-spouse</td>\n",
              "      <td>Machine-op-inspct</td>\n",
              "      <td>Wife</td>\n",
              "      <td>White</td>\n",
              "      <td>Female</td>\n",
              "      <td>0</td>\n",
              "      <td>0</td>\n",
              "      <td>37</td>\n",
              "      <td>United-States</td>\n",
              "    </tr>\n",
              "    <tr>\n",
              "      <th>17903</th>\n",
              "      <td>49</td>\n",
              "      <td>Self-emp-inc</td>\n",
              "      <td>Doctorate</td>\n",
              "      <td>16</td>\n",
              "      <td>Married-civ-spouse</td>\n",
              "      <td>Prof-specialty</td>\n",
              "      <td>Husband</td>\n",
              "      <td>Black</td>\n",
              "      <td>Male</td>\n",
              "      <td>0</td>\n",
              "      <td>0</td>\n",
              "      <td>60</td>\n",
              "      <td>United-States</td>\n",
              "    </tr>\n",
              "    <tr>\n",
              "      <th>5198</th>\n",
              "      <td>58</td>\n",
              "      <td>Local-gov</td>\n",
              "      <td>Bachelors</td>\n",
              "      <td>13</td>\n",
              "      <td>Married-civ-spouse</td>\n",
              "      <td>Prof-specialty</td>\n",
              "      <td>Wife</td>\n",
              "      <td>White</td>\n",
              "      <td>Female</td>\n",
              "      <td>0</td>\n",
              "      <td>0</td>\n",
              "      <td>40</td>\n",
              "      <td>United-States</td>\n",
              "    </tr>\n",
              "  </tbody>\n",
              "</table>\n",
              "</div>"
            ],
            "text/plain": [
              "       age     workclass  ... hours.per.week  native.country\n",
              "ID                        ...                               \n",
              "3643    53       Private  ...             40   United-States\n",
              "16036   18           NaN  ...             25   United-States\n",
              "9401    42       Private  ...             37   United-States\n",
              "17903   49  Self-emp-inc  ...             60   United-States\n",
              "5198    58     Local-gov  ...             40   United-States\n",
              "\n",
              "[5 rows x 13 columns]"
            ]
          },
          "metadata": {},
          "execution_count": 803
        }
      ]
    },
    {
      "cell_type": "markdown",
      "metadata": {
        "id": "ruEgOg4HgeEl"
      },
      "source": [
        "##**DATA EXPLORATION**"
      ]
    },
    {
      "cell_type": "code",
      "metadata": {
        "id": "7lvgqZk3dhN6",
        "colab": {
          "base_uri": "https://localhost:8080/"
        },
        "outputId": "b4fa44cf-e8e4-4383-9c12-d98239bdab5f"
      },
      "source": [
        "df_train.shape"
      ],
      "execution_count": null,
      "outputs": [
        {
          "output_type": "execute_result",
          "data": {
            "text/plain": [
              "(27656, 14)"
            ]
          },
          "metadata": {},
          "execution_count": 804
        }
      ]
    },
    {
      "cell_type": "code",
      "metadata": {
        "id": "Qzf3Y6xegsDY",
        "colab": {
          "base_uri": "https://localhost:8080/"
        },
        "outputId": "716e66b4-acd6-400c-a9fa-9cab59bd4bc8"
      },
      "source": [
        "df_train.info()"
      ],
      "execution_count": null,
      "outputs": [
        {
          "output_type": "stream",
          "name": "stdout",
          "text": [
            "<class 'pandas.core.frame.DataFrame'>\n",
            "Int64Index: 27656 entries, 24451 to 23654\n",
            "Data columns (total 14 columns):\n",
            " #   Column          Non-Null Count  Dtype \n",
            "---  ------          --------------  ----- \n",
            " 0   age             27656 non-null  int64 \n",
            " 1   workclass       26117 non-null  object\n",
            " 2   education       27656 non-null  object\n",
            " 3   education.num   27656 non-null  int64 \n",
            " 4   marital.status  27656 non-null  object\n",
            " 5   occupation      26110 non-null  object\n",
            " 6   relationship    27656 non-null  object\n",
            " 7   race            27656 non-null  object\n",
            " 8   sex             27656 non-null  object\n",
            " 9   capital.gain    27656 non-null  int64 \n",
            " 10  capital.loss    27656 non-null  int64 \n",
            " 11  hours.per.week  27656 non-null  int64 \n",
            " 12  native.country  27152 non-null  object\n",
            " 13  income          27656 non-null  object\n",
            "dtypes: int64(5), object(9)\n",
            "memory usage: 3.2+ MB\n"
          ]
        }
      ]
    },
    {
      "cell_type": "code",
      "metadata": {
        "id": "48gJdX_ndm3j",
        "colab": {
          "base_uri": "https://localhost:8080/"
        },
        "outputId": "f43579c1-9e11-40d0-bccd-235cda99c87b"
      },
      "source": [
        "df_train.isna().sum()"
      ],
      "execution_count": null,
      "outputs": [
        {
          "output_type": "execute_result",
          "data": {
            "text/plain": [
              "age                  0\n",
              "workclass         1539\n",
              "education            0\n",
              "education.num        0\n",
              "marital.status       0\n",
              "occupation        1546\n",
              "relationship         0\n",
              "race                 0\n",
              "sex                  0\n",
              "capital.gain         0\n",
              "capital.loss         0\n",
              "hours.per.week       0\n",
              "native.country     504\n",
              "income               0\n",
              "dtype: int64"
            ]
          },
          "metadata": {},
          "execution_count": 806
        }
      ]
    },
    {
      "cell_type": "code",
      "metadata": {
        "id": "e_7dVOVIdouU",
        "colab": {
          "base_uri": "https://localhost:8080/"
        },
        "outputId": "2b281b93-4c4c-4bed-d97d-806f5c92c82b"
      },
      "source": [
        "df_train.isna().sum() / df_train.shape[0]*100"
      ],
      "execution_count": null,
      "outputs": [
        {
          "output_type": "execute_result",
          "data": {
            "text/plain": [
              "age               0.000000\n",
              "workclass         5.564796\n",
              "education         0.000000\n",
              "education.num     0.000000\n",
              "marital.status    0.000000\n",
              "occupation        5.590107\n",
              "relationship      0.000000\n",
              "race              0.000000\n",
              "sex               0.000000\n",
              "capital.gain      0.000000\n",
              "capital.loss      0.000000\n",
              "hours.per.week    0.000000\n",
              "native.country    1.822389\n",
              "income            0.000000\n",
              "dtype: float64"
            ]
          },
          "metadata": {},
          "execution_count": 807
        }
      ]
    },
    {
      "cell_type": "code",
      "metadata": {
        "id": "n_8JyzTndrF3",
        "colab": {
          "base_uri": "https://localhost:8080/",
          "height": 206
        },
        "outputId": "cd247b24-208a-4cf6-a499-12c0da34a68e"
      },
      "source": [
        "df_train.describe().T"
      ],
      "execution_count": null,
      "outputs": [
        {
          "output_type": "execute_result",
          "data": {
            "text/html": [
              "<div>\n",
              "<style scoped>\n",
              "    .dataframe tbody tr th:only-of-type {\n",
              "        vertical-align: middle;\n",
              "    }\n",
              "\n",
              "    .dataframe tbody tr th {\n",
              "        vertical-align: top;\n",
              "    }\n",
              "\n",
              "    .dataframe thead th {\n",
              "        text-align: right;\n",
              "    }\n",
              "</style>\n",
              "<table border=\"1\" class=\"dataframe\">\n",
              "  <thead>\n",
              "    <tr style=\"text-align: right;\">\n",
              "      <th></th>\n",
              "      <th>count</th>\n",
              "      <th>mean</th>\n",
              "      <th>std</th>\n",
              "      <th>min</th>\n",
              "      <th>25%</th>\n",
              "      <th>50%</th>\n",
              "      <th>75%</th>\n",
              "      <th>max</th>\n",
              "    </tr>\n",
              "  </thead>\n",
              "  <tbody>\n",
              "    <tr>\n",
              "      <th>age</th>\n",
              "      <td>27656.0</td>\n",
              "      <td>38.610356</td>\n",
              "      <td>13.659928</td>\n",
              "      <td>17.0</td>\n",
              "      <td>28.0</td>\n",
              "      <td>37.0</td>\n",
              "      <td>48.0</td>\n",
              "      <td>90.0</td>\n",
              "    </tr>\n",
              "    <tr>\n",
              "      <th>education.num</th>\n",
              "      <td>27656.0</td>\n",
              "      <td>10.093506</td>\n",
              "      <td>2.566083</td>\n",
              "      <td>1.0</td>\n",
              "      <td>9.0</td>\n",
              "      <td>10.0</td>\n",
              "      <td>12.0</td>\n",
              "      <td>16.0</td>\n",
              "    </tr>\n",
              "    <tr>\n",
              "      <th>capital.gain</th>\n",
              "      <td>27656.0</td>\n",
              "      <td>1099.991503</td>\n",
              "      <td>7487.323462</td>\n",
              "      <td>0.0</td>\n",
              "      <td>0.0</td>\n",
              "      <td>0.0</td>\n",
              "      <td>0.0</td>\n",
              "      <td>99999.0</td>\n",
              "    </tr>\n",
              "    <tr>\n",
              "      <th>capital.loss</th>\n",
              "      <td>27656.0</td>\n",
              "      <td>88.284387</td>\n",
              "      <td>405.821328</td>\n",
              "      <td>0.0</td>\n",
              "      <td>0.0</td>\n",
              "      <td>0.0</td>\n",
              "      <td>0.0</td>\n",
              "      <td>4356.0</td>\n",
              "    </tr>\n",
              "    <tr>\n",
              "      <th>hours.per.week</th>\n",
              "      <td>27656.0</td>\n",
              "      <td>40.446666</td>\n",
              "      <td>12.369212</td>\n",
              "      <td>1.0</td>\n",
              "      <td>40.0</td>\n",
              "      <td>40.0</td>\n",
              "      <td>45.0</td>\n",
              "      <td>99.0</td>\n",
              "    </tr>\n",
              "  </tbody>\n",
              "</table>\n",
              "</div>"
            ],
            "text/plain": [
              "                  count         mean          std  ...   50%   75%      max\n",
              "age             27656.0    38.610356    13.659928  ...  37.0  48.0     90.0\n",
              "education.num   27656.0    10.093506     2.566083  ...  10.0  12.0     16.0\n",
              "capital.gain    27656.0  1099.991503  7487.323462  ...   0.0   0.0  99999.0\n",
              "capital.loss    27656.0    88.284387   405.821328  ...   0.0   0.0   4356.0\n",
              "hours.per.week  27656.0    40.446666    12.369212  ...  40.0  45.0     99.0\n",
              "\n",
              "[5 rows x 8 columns]"
            ]
          },
          "metadata": {},
          "execution_count": 808
        }
      ]
    },
    {
      "cell_type": "markdown",
      "metadata": {
        "id": "z-pTbOCqhaLU"
      },
      "source": [
        "- Luego de este análisis, podemos ver que capital.gain y capital.loss se encuentran muy dispersos con una variación demasiado alta. Con lo estudiado, sabemos que esto puede significar que contiene mucha información o que tiene outliers. En nuestro caso es la última opción, debido a que nuestro dataset contiene datos extremos y en la mayoría de las filas son 0 (cero).\n",
        "- Por otro lado, el promedio de la edad es de 38,61 años y la media es 37 (si vemos el percentil 50%), con esto nos referimos a que estas personas deben ser encargados de sus familias. Por lo que, esto lo deberíamos considerar a la hora de realizar las predicciones.\n",
        "- Por último, las horas trabajadas por semana van a variar de acuerdo al país del que proviene y el tipo de trabajo al que se dedique esa persona, además si es emprendedor o jefe y si tiene o no una profesión."
      ]
    },
    {
      "cell_type": "markdown",
      "metadata": {
        "id": "tVEmqDO5d0Ud"
      },
      "source": [
        "#**Variables**\n",
        "\n",
        "##*Numéricas (cuantitativas):*\n",
        "\n",
        "- age\n",
        "- education.num\n",
        "- capital.gain\n",
        "- capita.loss\n",
        "- hours.per.week\n",
        "\n",
        "##*Categóricas:*\n",
        "\n",
        "- workclass\n",
        "- education\n",
        "- marital.status\t\n",
        "- occupation\n",
        "- relationship\n",
        "- race\n",
        "- sex\n",
        "- native.country\n",
        "- income"
      ]
    },
    {
      "cell_type": "markdown",
      "metadata": {
        "id": "fM2poTlYdNfB"
      },
      "source": [
        "##Análisis de las columnas categóricas\n"
      ]
    },
    {
      "cell_type": "markdown",
      "metadata": {
        "id": "3W2PQJ8qjnTd"
      },
      "source": [
        "Ahora, vamos a explorar las columnas categóricas para encontrar inferencias luego de este análisis:"
      ]
    },
    {
      "cell_type": "markdown",
      "metadata": {
        "id": "LKuIR5etWRdQ"
      },
      "source": [
        "Vamos a ir modificando nuestro df_test simultáneamente para que queden los datos de igual manera procesados."
      ]
    },
    {
      "cell_type": "markdown",
      "metadata": {
        "id": "UWcNpAFreChF"
      },
      "source": [
        "####Education y Education.num"
      ]
    },
    {
      "cell_type": "code",
      "metadata": {
        "id": "_zrwZmaTooph",
        "colab": {
          "base_uri": "https://localhost:8080/",
          "height": 606
        },
        "outputId": "29924a3e-4a34-4e38-bbfb-b79cf9af5877"
      },
      "source": [
        "plt.figure(figsize = (15,10))\n",
        "sns.countplot(df_train['education'], order = df_train.education.value_counts().index)\n",
        "plt.show()"
      ],
      "execution_count": null,
      "outputs": [
        {
          "output_type": "display_data",
          "data": {
            "image/png": "[encoded data removed]",
            "text/plain": [
              "<Figure size 1080x720 with 1 Axes>"
            ]
          },
          "metadata": {
            "needs_background": "light"
          }
        }
      ]
    },
    {
      "cell_type": "markdown",
      "metadata": {
        "id": "N7IWmKkdo92w"
      },
      "source": [
        "Como vemos, la mayor parte tiene al menos un título secundario, bachelor o realizó una parte de alguna carrera universitaria."
      ]
    },
    {
      "cell_type": "markdown",
      "metadata": {
        "id": "N3uS4pGOd4pL"
      },
      "source": [
        "Analizando los datos, nos dimos cuenta de que el nivel de educación se corresponde con un valor numérico de la columna 'education number', por lo cual, vamos a dropear esa variable categórica."
      ]
    },
    {
      "cell_type": "code",
      "metadata": {
        "id": "dR5YIS62dvjn",
        "colab": {
          "base_uri": "https://localhost:8080/"
        },
        "outputId": "7742bc12-09a9-4ab0-d811-9ac40e0f2e57"
      },
      "source": [
        "df_train.value_counts(['education.num', 'education'], ascending = False)"
      ],
      "execution_count": null,
      "outputs": [
        {
          "output_type": "execute_result",
          "data": {
            "text/plain": [
              "education.num  education   \n",
              "9              HS-grad         8934\n",
              "10             Some-college    6223\n",
              "13             Bachelors       4583\n",
              "14             Masters         1474\n",
              "11             Assoc-voc       1147\n",
              "7              11th             982\n",
              "12             Assoc-acdm       886\n",
              "6              10th             794\n",
              "4              7th-8th          535\n",
              "15             Prof-school      495\n",
              "5              9th              429\n",
              "8              12th             365\n",
              "16             Doctorate        352\n",
              "3              5th-6th          275\n",
              "2              1st-4th          139\n",
              "1              Preschool         43\n",
              "dtype: int64"
            ]
          },
          "metadata": {},
          "execution_count": 810
        }
      ]
    },
    {
      "cell_type": "markdown",
      "metadata": {
        "id": "_VMFnVX-eC5i"
      },
      "source": [
        "| Education number| Education |\n",
        "|-----------------|:------------|\n",
        "|1                | Preschool\n",
        "|2                |1st - 4th\n",
        "|3                |5th - 6th \n",
        "|4                |7th - 8th\n",
        "|5                |9th\n",
        "|6                |10th\n",
        "|7                |11th\n",
        "|8                |12th\n",
        "|9                |HS - grad \n",
        "|10               |Some-college\n",
        "|11               |Assoc-voc\n",
        "|12               |Assoc-acdm\n",
        "|13               |Bachelors\n",
        "|14               |Masters\n",
        "|15               |Prof-school\n",
        "|16               |Doctorate"
      ]
    },
    {
      "cell_type": "code",
      "metadata": {
        "id": "VMzSKdTFd_Mf",
        "colab": {
          "base_uri": "https://localhost:8080/",
          "height": 324
        },
        "outputId": "896ea401-917f-4193-8a14-bf3c9f5d0cba"
      },
      "source": [
        "df_train = df_train.drop(['education'], axis = 1)\n",
        "df_train.head()"
      ],
      "execution_count": null,
      "outputs": [
        {
          "output_type": "execute_result",
          "data": {
            "text/html": [
              "<div>\n",
              "<style scoped>\n",
              "    .dataframe tbody tr th:only-of-type {\n",
              "        vertical-align: middle;\n",
              "    }\n",
              "\n",
              "    .dataframe tbody tr th {\n",
              "        vertical-align: top;\n",
              "    }\n",
              "\n",
              "    .dataframe thead th {\n",
              "        text-align: right;\n",
              "    }\n",
              "</style>\n",
              "<table border=\"1\" class=\"dataframe\">\n",
              "  <thead>\n",
              "    <tr style=\"text-align: right;\">\n",
              "      <th></th>\n",
              "      <th>age</th>\n",
              "      <th>workclass</th>\n",
              "      <th>education.num</th>\n",
              "      <th>marital.status</th>\n",
              "      <th>occupation</th>\n",
              "      <th>relationship</th>\n",
              "      <th>race</th>\n",
              "      <th>sex</th>\n",
              "      <th>capital.gain</th>\n",
              "      <th>capital.loss</th>\n",
              "      <th>hours.per.week</th>\n",
              "      <th>native.country</th>\n",
              "      <th>income</th>\n",
              "    </tr>\n",
              "    <tr>\n",
              "      <th>ID</th>\n",
              "      <th></th>\n",
              "      <th></th>\n",
              "      <th></th>\n",
              "      <th></th>\n",
              "      <th></th>\n",
              "      <th></th>\n",
              "      <th></th>\n",
              "      <th></th>\n",
              "      <th></th>\n",
              "      <th></th>\n",
              "      <th></th>\n",
              "      <th></th>\n",
              "      <th></th>\n",
              "    </tr>\n",
              "  </thead>\n",
              "  <tbody>\n",
              "    <tr>\n",
              "      <th>24451</th>\n",
              "      <td>30</td>\n",
              "      <td>Local-gov</td>\n",
              "      <td>9</td>\n",
              "      <td>Divorced</td>\n",
              "      <td>Protective-serv</td>\n",
              "      <td>Own-child</td>\n",
              "      <td>White</td>\n",
              "      <td>Female</td>\n",
              "      <td>0</td>\n",
              "      <td>0</td>\n",
              "      <td>32</td>\n",
              "      <td>United-States</td>\n",
              "      <td>&lt;=50K</td>\n",
              "    </tr>\n",
              "    <tr>\n",
              "      <th>985</th>\n",
              "      <td>37</td>\n",
              "      <td>Private</td>\n",
              "      <td>13</td>\n",
              "      <td>Married-civ-spouse</td>\n",
              "      <td>Exec-managerial</td>\n",
              "      <td>Wife</td>\n",
              "      <td>White</td>\n",
              "      <td>Female</td>\n",
              "      <td>0</td>\n",
              "      <td>1848</td>\n",
              "      <td>40</td>\n",
              "      <td>United-States</td>\n",
              "      <td>&gt;50K</td>\n",
              "    </tr>\n",
              "    <tr>\n",
              "      <th>30229</th>\n",
              "      <td>41</td>\n",
              "      <td>Private</td>\n",
              "      <td>9</td>\n",
              "      <td>Married-civ-spouse</td>\n",
              "      <td>Craft-repair</td>\n",
              "      <td>Husband</td>\n",
              "      <td>White</td>\n",
              "      <td>Male</td>\n",
              "      <td>0</td>\n",
              "      <td>0</td>\n",
              "      <td>60</td>\n",
              "      <td>United-States</td>\n",
              "      <td>&gt;50K</td>\n",
              "    </tr>\n",
              "    <tr>\n",
              "      <th>7107</th>\n",
              "      <td>45</td>\n",
              "      <td>Private</td>\n",
              "      <td>13</td>\n",
              "      <td>Married-civ-spouse</td>\n",
              "      <td>Prof-specialty</td>\n",
              "      <td>Husband</td>\n",
              "      <td>White</td>\n",
              "      <td>Male</td>\n",
              "      <td>0</td>\n",
              "      <td>0</td>\n",
              "      <td>60</td>\n",
              "      <td>United-States</td>\n",
              "      <td>&gt;50K</td>\n",
              "    </tr>\n",
              "    <tr>\n",
              "      <th>27639</th>\n",
              "      <td>28</td>\n",
              "      <td>Private</td>\n",
              "      <td>9</td>\n",
              "      <td>Never-married</td>\n",
              "      <td>Exec-managerial</td>\n",
              "      <td>Not-in-family</td>\n",
              "      <td>White</td>\n",
              "      <td>Female</td>\n",
              "      <td>0</td>\n",
              "      <td>0</td>\n",
              "      <td>40</td>\n",
              "      <td>United-States</td>\n",
              "      <td>&lt;=50K</td>\n",
              "    </tr>\n",
              "  </tbody>\n",
              "</table>\n",
              "</div>"
            ],
            "text/plain": [
              "       age  workclass  education.num  ... hours.per.week native.country income\n",
              "ID                                    ...                                     \n",
              "24451   30  Local-gov              9  ...             32  United-States  <=50K\n",
              "985     37    Private             13  ...             40  United-States   >50K\n",
              "30229   41    Private              9  ...             60  United-States   >50K\n",
              "7107    45    Private             13  ...             60  United-States   >50K\n",
              "27639   28    Private              9  ...             40  United-States  <=50K\n",
              "\n",
              "[5 rows x 13 columns]"
            ]
          },
          "metadata": {},
          "execution_count": 811
        }
      ]
    },
    {
      "cell_type": "code",
      "metadata": {
        "colab": {
          "base_uri": "https://localhost:8080/",
          "height": 238
        },
        "id": "IhxgF96mXMdb",
        "outputId": "c23433ea-269d-4250-dee4-9019ba29e681"
      },
      "source": [
        "df_test = df_test.drop(['education'], axis = 1)\n",
        "df_test.head()"
      ],
      "execution_count": null,
      "outputs": [
        {
          "output_type": "execute_result",
          "data": {
            "text/html": [
              "<div>\n",
              "<style scoped>\n",
              "    .dataframe tbody tr th:only-of-type {\n",
              "        vertical-align: middle;\n",
              "    }\n",
              "\n",
              "    .dataframe tbody tr th {\n",
              "        vertical-align: top;\n",
              "    }\n",
              "\n",
              "    .dataframe thead th {\n",
              "        text-align: right;\n",
              "    }\n",
              "</style>\n",
              "<table border=\"1\" class=\"dataframe\">\n",
              "  <thead>\n",
              "    <tr style=\"text-align: right;\">\n",
              "      <th></th>\n",
              "      <th>age</th>\n",
              "      <th>workclass</th>\n",
              "      <th>education.num</th>\n",
              "      <th>marital.status</th>\n",
              "      <th>occupation</th>\n",
              "      <th>relationship</th>\n",
              "      <th>race</th>\n",
              "      <th>sex</th>\n",
              "      <th>capital.gain</th>\n",
              "      <th>capital.loss</th>\n",
              "      <th>hours.per.week</th>\n",
              "      <th>native.country</th>\n",
              "    </tr>\n",
              "    <tr>\n",
              "      <th>ID</th>\n",
              "      <th></th>\n",
              "      <th></th>\n",
              "      <th></th>\n",
              "      <th></th>\n",
              "      <th></th>\n",
              "      <th></th>\n",
              "      <th></th>\n",
              "      <th></th>\n",
              "      <th></th>\n",
              "      <th></th>\n",
              "      <th></th>\n",
              "      <th></th>\n",
              "    </tr>\n",
              "  </thead>\n",
              "  <tbody>\n",
              "    <tr>\n",
              "      <th>3643</th>\n",
              "      <td>53</td>\n",
              "      <td>Private</td>\n",
              "      <td>10</td>\n",
              "      <td>Married-civ-spouse</td>\n",
              "      <td>Machine-op-inspct</td>\n",
              "      <td>Husband</td>\n",
              "      <td>White</td>\n",
              "      <td>Male</td>\n",
              "      <td>3137</td>\n",
              "      <td>0</td>\n",
              "      <td>40</td>\n",
              "      <td>United-States</td>\n",
              "    </tr>\n",
              "    <tr>\n",
              "      <th>16036</th>\n",
              "      <td>18</td>\n",
              "      <td>NaN</td>\n",
              "      <td>7</td>\n",
              "      <td>Never-married</td>\n",
              "      <td>NaN</td>\n",
              "      <td>Own-child</td>\n",
              "      <td>White</td>\n",
              "      <td>Male</td>\n",
              "      <td>0</td>\n",
              "      <td>0</td>\n",
              "      <td>25</td>\n",
              "      <td>United-States</td>\n",
              "    </tr>\n",
              "    <tr>\n",
              "      <th>9401</th>\n",
              "      <td>42</td>\n",
              "      <td>Private</td>\n",
              "      <td>10</td>\n",
              "      <td>Married-civ-spouse</td>\n",
              "      <td>Machine-op-inspct</td>\n",
              "      <td>Wife</td>\n",
              "      <td>White</td>\n",
              "      <td>Female</td>\n",
              "      <td>0</td>\n",
              "      <td>0</td>\n",
              "      <td>37</td>\n",
              "      <td>United-States</td>\n",
              "    </tr>\n",
              "    <tr>\n",
              "      <th>17903</th>\n",
              "      <td>49</td>\n",
              "      <td>Self-emp-inc</td>\n",
              "      <td>16</td>\n",
              "      <td>Married-civ-spouse</td>\n",
              "      <td>Prof-specialty</td>\n",
              "      <td>Husband</td>\n",
              "      <td>Black</td>\n",
              "      <td>Male</td>\n",
              "      <td>0</td>\n",
              "      <td>0</td>\n",
              "      <td>60</td>\n",
              "      <td>United-States</td>\n",
              "    </tr>\n",
              "    <tr>\n",
              "      <th>5198</th>\n",
              "      <td>58</td>\n",
              "      <td>Local-gov</td>\n",
              "      <td>13</td>\n",
              "      <td>Married-civ-spouse</td>\n",
              "      <td>Prof-specialty</td>\n",
              "      <td>Wife</td>\n",
              "      <td>White</td>\n",
              "      <td>Female</td>\n",
              "      <td>0</td>\n",
              "      <td>0</td>\n",
              "      <td>40</td>\n",
              "      <td>United-States</td>\n",
              "    </tr>\n",
              "  </tbody>\n",
              "</table>\n",
              "</div>"
            ],
            "text/plain": [
              "       age     workclass  ...  hours.per.week native.country\n",
              "ID                        ...                               \n",
              "3643    53       Private  ...              40  United-States\n",
              "16036   18           NaN  ...              25  United-States\n",
              "9401    42       Private  ...              37  United-States\n",
              "17903   49  Self-emp-inc  ...              60  United-States\n",
              "5198    58     Local-gov  ...              40  United-States\n",
              "\n",
              "[5 rows x 12 columns]"
            ]
          },
          "metadata": {},
          "execution_count": 812
        }
      ]
    },
    {
      "cell_type": "markdown",
      "metadata": {
        "id": "YscWRl6zeL2T"
      },
      "source": [
        "Observando la información sobre los niveles educativos en Estados Unidos, buscamos mejorar y hacer más eficiente el conjunto de datos, es decir, recategorizar.\n",
        "\n",
        "A continuación, agruparemos nuestra variable education.num de la siguiente manera:\n",
        "\n",
        "| education.num | Nivel educativo | Nuevo Valor |\n",
        "|---------------|:----------------|:-------------|\n",
        "|1 - 8          |Sin finalizar educación básica  | 1 |\n",
        "|9              |Egresado de High School (secundario completo) | 2 |\n",
        "|10             |Estudios terciarios y/o universitarios incompletos | 3 |\n",
        "|11 - 12        |Título de pregrado | 4 |\n",
        "|13             |Título de grado | 5 |\n",
        "|14 - 15        |Título de Posgrado | 6 |\n",
        "|16             |Doctorado (PhD) | 7 |"
      ]
    },
    {
      "cell_type": "code",
      "metadata": {
        "id": "CGRiUTELeIIs"
      },
      "source": [
        "df_train['education.num'][df_train[\"education.num\"]<=8] =  1\n",
        "df_train['education.num'][df_train[\"education.num\"]==9] =  2\n",
        "df_train['education.num'][df_train[\"education.num\"]==10] =  3\n",
        "df_train['education.num'][(df_train[\"education.num\"]==11) | (df_train[\"education.num\"]==12)] =  4\n",
        "df_train['education.num'][df_train[\"education.num\"]==13] =  5\n",
        "df_train['education.num'][(df_train[\"education.num\"]==14) | (df_train[\"education.num\"]==15)] =  6\n",
        "df_train['education.num'][df_train[\"education.num\"]==16] =  7"
      ],
      "execution_count": null,
      "outputs": []
    },
    {
      "cell_type": "code",
      "metadata": {
        "id": "0kGnK-4AXdaO"
      },
      "source": [
        "df_test['education.num'][df_test[\"education.num\"]<=8] =  1\n",
        "df_test['education.num'][df_test[\"education.num\"]==9] =  2\n",
        "df_test['education.num'][df_test[\"education.num\"]==10] =  3\n",
        "df_test['education.num'][(df_test[\"education.num\"]==11) | (df_test[\"education.num\"]==12)] =  4\n",
        "df_test['education.num'][df_test[\"education.num\"]==13] =  5\n",
        "df_test['education.num'][(df_test[\"education.num\"]==14) | (df_test[\"education.num\"]==15)] =  6\n",
        "df_test['education.num'][df_test[\"education.num\"]==16] =  7"
      ],
      "execution_count": null,
      "outputs": []
    },
    {
      "cell_type": "code",
      "metadata": {
        "id": "GRGxT2CaeQgW",
        "colab": {
          "base_uri": "https://localhost:8080/"
        },
        "outputId": "22409c96-5c19-4d56-82bd-c12a68d8ffa7"
      },
      "source": [
        "df_train['education.num'].value_counts(ascending = False)"
      ],
      "execution_count": null,
      "outputs": [
        {
          "output_type": "execute_result",
          "data": {
            "text/plain": [
              "2    8934\n",
              "3    6223\n",
              "5    4583\n",
              "1    3562\n",
              "4    2033\n",
              "6    1969\n",
              "7     352\n",
              "Name: education.num, dtype: int64"
            ]
          },
          "metadata": {},
          "execution_count": 815
        }
      ]
    },
    {
      "cell_type": "code",
      "metadata": {
        "id": "EseHbRmhp3iZ",
        "colab": {
          "base_uri": "https://localhost:8080/"
        },
        "outputId": "39d257fb-7433-4222-9901-f186dbc4cd61"
      },
      "source": [
        "df_train.groupby(['education.num', 'income']).size()"
      ],
      "execution_count": null,
      "outputs": [
        {
          "output_type": "execute_result",
          "data": {
            "text/plain": [
              "education.num  income\n",
              "1              <=50K     3376\n",
              "               >50K       186\n",
              "2              <=50K     7475\n",
              "               >50K      1459\n",
              "3              <=50K     5044\n",
              "               >50K      1179\n",
              "4              <=50K     1523\n",
              "               >50K       510\n",
              "5              <=50K     2668\n",
              "               >50K      1915\n",
              "6              <=50K      774\n",
              "               >50K      1195\n",
              "7              <=50K       93\n",
              "               >50K       259\n",
              "dtype: int64"
            ]
          },
          "metadata": {},
          "execution_count": 816
        }
      ]
    },
    {
      "cell_type": "markdown",
      "metadata": {
        "id": "P_JocIh4qI3A"
      },
      "source": [
        "Gracias a esto, podemos ver que gran parte de las personas que abandonaron la educación obligatoria tiene ingresos <= 50k, quizás las que ganan más, han podido aprender algún oficio o crear un emprendimiento.\n",
        "\n",
        "Además, si hacemos la comparación con el máximo nivel académico que se puede alcanzar que es el PhD, también encontramos una minoría que gana <= 50k anuales.\n",
        "\n",
        "Podemos observar como a partir de estudios terciarios/universitarios (cat 3) aumenta el monto anual, y son más las personas a las que les ingresa > 50k."
      ]
    },
    {
      "cell_type": "markdown",
      "metadata": {
        "id": "WOr20ZZVeaW2"
      },
      "source": [
        "####Workclass"
      ]
    },
    {
      "cell_type": "code",
      "metadata": {
        "id": "eEijPzS_f45Y",
        "colab": {
          "base_uri": "https://localhost:8080/",
          "height": 606
        },
        "outputId": "ff18a3f0-9ec4-46b7-98b0-553555d9b57d"
      },
      "source": [
        "plt.figure(figsize = (15,10))\n",
        "sns.countplot(df_train['workclass'], order = df_train.workclass.value_counts().index)\n",
        "plt.show()"
      ],
      "execution_count": null,
      "outputs": [
        {
          "output_type": "display_data",
          "data": {
            "image/png": "[encoded data removed]",
            "text/plain": [
              "<Figure size 1080x720 with 1 Axes>"
            ]
          },
          "metadata": {
            "needs_background": "light"
          }
        }
      ]
    },
    {
      "cell_type": "markdown",
      "metadata": {
        "id": "h5Ei7cSymqBF"
      },
      "source": [
        "La mayoría de las personas representadas en el gráfico trabajan en el sector privado, pero no tenemos muchas más info sobre eso."
      ]
    },
    {
      "cell_type": "code",
      "metadata": {
        "id": "FcYmkC1jl5eW",
        "colab": {
          "base_uri": "https://localhost:8080/"
        },
        "outputId": "107b627f-5f13-410e-bd54-1fd1dc143daa"
      },
      "source": [
        "df_train['workclass'].value_counts()"
      ],
      "execution_count": null,
      "outputs": [
        {
          "output_type": "execute_result",
          "data": {
            "text/plain": [
              "Private             19279\n",
              "Self-emp-not-inc     2156\n",
              "Local-gov            1769\n",
              "State-gov            1117\n",
              "Self-emp-inc          953\n",
              "Federal-gov           822\n",
              "Without-pay            14\n",
              "Never-worked            7\n",
              "Name: workclass, dtype: int64"
            ]
          },
          "metadata": {},
          "execution_count": 818
        }
      ]
    },
    {
      "cell_type": "code",
      "metadata": {
        "id": "fYYnX3bcm8dF",
        "colab": {
          "base_uri": "https://localhost:8080/"
        },
        "outputId": "64f78eb3-63c1-4961-cf16-4d2109168a3b"
      },
      "source": [
        "df_train.groupby(['workclass','income']).size()"
      ],
      "execution_count": null,
      "outputs": [
        {
          "output_type": "execute_result",
          "data": {
            "text/plain": [
              "workclass         income\n",
              "Federal-gov       <=50K       503\n",
              "                  >50K        319\n",
              "Local-gov         <=50K      1244\n",
              "                  >50K        525\n",
              "Never-worked      <=50K         7\n",
              "Private           <=50K     15039\n",
              "                  >50K       4240\n",
              "Self-emp-inc      <=50K       418\n",
              "                  >50K        535\n",
              "Self-emp-not-inc  <=50K      1541\n",
              "                  >50K        615\n",
              "State-gov         <=50K       810\n",
              "                  >50K        307\n",
              "Without-pay       <=50K        14\n",
              "dtype: int64"
            ]
          },
          "metadata": {},
          "execution_count": 819
        }
      ]
    },
    {
      "cell_type": "markdown",
      "metadata": {
        "id": "F_k92WOsqNwi"
      },
      "source": [
        "Vemos que en las categorías de 'Never-worked' y 'Without-pay' siempre tienen ingresos menores a 50k anuales, obviamente debido al hecho de que no tienen ingresos. "
      ]
    },
    {
      "cell_type": "code",
      "metadata": {
        "colab": {
          "base_uri": "https://localhost:8080/"
        },
        "id": "4BiB0tBmqIc6",
        "outputId": "56d2e07d-5f92-4710-90cc-8d7c7fd4d969"
      },
      "source": [
        "df_train.income[(df_train.workclass == 'Without-pay') | (df_train.workclass == 'Never-worked')].unique()"
      ],
      "execution_count": null,
      "outputs": [
        {
          "output_type": "execute_result",
          "data": {
            "text/plain": [
              "array(['<=50K'], dtype=object)"
            ]
          },
          "metadata": {},
          "execution_count": 820
        }
      ]
    },
    {
      "cell_type": "markdown",
      "metadata": {
        "id": "VDAD7Xe5t0Wb"
      },
      "source": [
        "Vamos a ver cómo aparece en df_test"
      ]
    },
    {
      "cell_type": "code",
      "metadata": {
        "colab": {
          "base_uri": "https://localhost:8080/",
          "height": 81
        },
        "id": "x7j3dfEbtlK4",
        "outputId": "40150d21-e78c-437b-a29c-53e3fb3c4039"
      },
      "source": [
        "df_test[(df_test.workclass == 'Without-pay') | (df_test.workclass == 'Never-worked')]"
      ],
      "execution_count": null,
      "outputs": [
        {
          "output_type": "execute_result",
          "data": {
            "text/html": [
              "<div>\n",
              "<style scoped>\n",
              "    .dataframe tbody tr th:only-of-type {\n",
              "        vertical-align: middle;\n",
              "    }\n",
              "\n",
              "    .dataframe tbody tr th {\n",
              "        vertical-align: top;\n",
              "    }\n",
              "\n",
              "    .dataframe thead th {\n",
              "        text-align: right;\n",
              "    }\n",
              "</style>\n",
              "<table border=\"1\" class=\"dataframe\">\n",
              "  <thead>\n",
              "    <tr style=\"text-align: right;\">\n",
              "      <th></th>\n",
              "      <th>age</th>\n",
              "      <th>workclass</th>\n",
              "      <th>education.num</th>\n",
              "      <th>marital.status</th>\n",
              "      <th>occupation</th>\n",
              "      <th>relationship</th>\n",
              "      <th>race</th>\n",
              "      <th>sex</th>\n",
              "      <th>capital.gain</th>\n",
              "      <th>capital.loss</th>\n",
              "      <th>hours.per.week</th>\n",
              "      <th>native.country</th>\n",
              "    </tr>\n",
              "    <tr>\n",
              "      <th>ID</th>\n",
              "      <th></th>\n",
              "      <th></th>\n",
              "      <th></th>\n",
              "      <th></th>\n",
              "      <th></th>\n",
              "      <th></th>\n",
              "      <th></th>\n",
              "      <th></th>\n",
              "      <th></th>\n",
              "      <th></th>\n",
              "      <th></th>\n",
              "      <th></th>\n",
              "    </tr>\n",
              "  </thead>\n",
              "  <tbody>\n",
              "  </tbody>\n",
              "</table>\n",
              "</div>"
            ],
            "text/plain": [
              "Empty DataFrame\n",
              "Columns: [age, workclass, education.num, marital.status, occupation, relationship, race, sex, capital.gain, capital.loss, hours.per.week, native.country]\n",
              "Index: []"
            ]
          },
          "metadata": {},
          "execution_count": 821
        }
      ]
    },
    {
      "cell_type": "markdown",
      "metadata": {
        "id": "qUbVfpZwqzUm"
      },
      "source": [
        "En df_test no contamos con las categorías 'Without-pay'y 'Never-worked'.Entonces, vamos a eliminar esas filas debido a que no generan valor a nuestra predicción."
      ]
    },
    {
      "cell_type": "code",
      "metadata": {
        "id": "pmQqH1UBrUuN"
      },
      "source": [
        "df_train = df_train.drop(df_train[(df_train.workclass == 'Without-pay') | (df_train.workclass == 'Never-worked')].index)"
      ],
      "execution_count": null,
      "outputs": []
    },
    {
      "cell_type": "markdown",
      "metadata": {
        "id": "ZMi7yB_-tfCr"
      },
      "source": [
        "Corroboramos que se hayan dropeado correctamente:"
      ]
    },
    {
      "cell_type": "code",
      "metadata": {
        "colab": {
          "base_uri": "https://localhost:8080/"
        },
        "id": "GkmqPbv_tbCr",
        "outputId": "6bbc548e-7568-4b02-88f9-8a5e11f7d96a"
      },
      "source": [
        "df_train.workclass.unique()"
      ],
      "execution_count": null,
      "outputs": [
        {
          "output_type": "execute_result",
          "data": {
            "text/plain": [
              "array(['Local-gov', 'Private', 'Federal-gov', 'Self-emp-not-inc', nan,\n",
              "       'State-gov', 'Self-emp-inc'], dtype=object)"
            ]
          },
          "metadata": {},
          "execution_count": 823
        }
      ]
    },
    {
      "cell_type": "markdown",
      "metadata": {
        "id": "YONZD7Cnnycc"
      },
      "source": [
        "A partir de esto, sacamos las siguientes conclusiones:\n",
        "\n",
        "- Las personas que pertenecen a 'worked without pay' y 'never worked' obviamente cobran <= 50k.\n",
        "- La mayor cantidad de personas que pertenecen al sector privado cobran < 50k anuales, comparando con la parte que cobra > 50k que son 3 veces menos aprox.\n"
      ]
    },
    {
      "cell_type": "code",
      "metadata": {
        "id": "tPl1KhkhnDfz",
        "colab": {
          "base_uri": "https://localhost:8080/"
        },
        "outputId": "c281b082-d069-4034-d464-7ea55c66b322"
      },
      "source": [
        "df_train.groupby(['education.num','workclass']).size()"
      ],
      "execution_count": null,
      "outputs": [
        {
          "output_type": "execute_result",
          "data": {
            "text/plain": [
              "education.num  workclass       \n",
              "1              Federal-gov           20\n",
              "               Local-gov            126\n",
              "               Private             2696\n",
              "               Self-emp-inc          59\n",
              "               Self-emp-not-inc     260\n",
              "               State-gov             53\n",
              "2              Federal-gov          231\n",
              "               Local-gov            426\n",
              "               Private             6615\n",
              "               Self-emp-inc         245\n",
              "               Self-emp-not-inc     732\n",
              "               State-gov            225\n",
              "3              Federal-gov          214\n",
              "               Local-gov            333\n",
              "               Private             4359\n",
              "               Self-emp-inc         183\n",
              "               Self-emp-not-inc     413\n",
              "               State-gov            278\n",
              "4              Federal-gov           80\n",
              "               Local-gov            139\n",
              "               Private             1442\n",
              "               Self-emp-inc          61\n",
              "               Self-emp-not-inc     150\n",
              "               State-gov             70\n",
              "5              Federal-gov          173\n",
              "               Local-gov            409\n",
              "               Private             3034\n",
              "               Self-emp-inc         241\n",
              "               Self-emp-not-inc     339\n",
              "               State-gov            237\n",
              "6              Federal-gov           89\n",
              "               Local-gov            314\n",
              "               Private              980\n",
              "               Self-emp-inc         137\n",
              "               Self-emp-not-inc     221\n",
              "               State-gov            174\n",
              "7              Federal-gov           15\n",
              "               Local-gov             22\n",
              "               Private              153\n",
              "               Self-emp-inc          27\n",
              "               Self-emp-not-inc      41\n",
              "               State-gov             80\n",
              "dtype: int64"
            ]
          },
          "metadata": {},
          "execution_count": 824
        }
      ]
    },
    {
      "cell_type": "markdown",
      "metadata": {
        "id": "FDb0HGxMfENg"
      },
      "source": [
        "Acá podemos ver una relacion entre education y workclass.\n",
        "\n",
        "- Las personas que trabajan sin paga podemos ver que pertenecen a las categorías 1, 2, 3 y 4. \n",
        "- Un caso similar es con las personas que nunca trabajaron ya que se encuentran en las categorías 1, 2 y 3.\n",
        "- Sin importar el nivel de educación, la mayoría de las personas trabajan en el sector privado."
      ]
    },
    {
      "cell_type": "markdown",
      "metadata": {
        "id": "w6Sm69RAGgPP"
      },
      "source": [
        "En esta variable recordemos que teníamos aprox 5,8% de los valores nulos, por lo que los vamos a rellenar con la moda:"
      ]
    },
    {
      "cell_type": "code",
      "metadata": {
        "id": "UOMRdMaVGfuU",
        "colab": {
          "base_uri": "https://localhost:8080/"
        },
        "outputId": "3e241e34-cd58-4d23-f78e-7a8b9bd91d0e"
      },
      "source": [
        "df_train['workclass'] = df_train['workclass'].fillna(df_train['workclass'].mode().values[0], inplace = False)\n",
        "df_train['workclass']"
      ],
      "execution_count": null,
      "outputs": [
        {
          "output_type": "execute_result",
          "data": {
            "text/plain": [
              "ID\n",
              "24451           Local-gov\n",
              "985               Private\n",
              "30229             Private\n",
              "7107              Private\n",
              "27639             Private\n",
              "               ...       \n",
              "29802             Private\n",
              "5390              Private\n",
              "860           Federal-gov\n",
              "15795             Private\n",
              "23654    Self-emp-not-inc\n",
              "Name: workclass, Length: 27635, dtype: object"
            ]
          },
          "metadata": {},
          "execution_count": 825
        }
      ]
    },
    {
      "cell_type": "code",
      "metadata": {
        "colab": {
          "base_uri": "https://localhost:8080/"
        },
        "id": "WNXKPLigYDG5",
        "outputId": "359de6a4-7b57-4791-b238-d75ed78c1d51"
      },
      "source": [
        "df_test['workclass'] = df_test['workclass'].fillna(df_test['workclass'].mode().values[0], inplace = False)\n",
        "df_test['workclass']"
      ],
      "execution_count": null,
      "outputs": [
        {
          "output_type": "execute_result",
          "data": {
            "text/plain": [
              "ID\n",
              "3643          Private\n",
              "16036         Private\n",
              "9401          Private\n",
              "17903    Self-emp-inc\n",
              "5198        Local-gov\n",
              "             ...     \n",
              "19468         Private\n",
              "7554        State-gov\n",
              "25076         Private\n",
              "9731          Private\n",
              "25258         Private\n",
              "Name: workclass, Length: 4881, dtype: object"
            ]
          },
          "metadata": {},
          "execution_count": 826
        }
      ]
    },
    {
      "cell_type": "markdown",
      "metadata": {
        "id": "EyPnjirsgTZJ"
      },
      "source": [
        "####Marital Status"
      ]
    },
    {
      "cell_type": "code",
      "metadata": {
        "id": "YO4bdLm0gXLa",
        "colab": {
          "base_uri": "https://localhost:8080/",
          "height": 606
        },
        "outputId": "06c32dd0-a13e-4ea8-9e53-956bb0df736e"
      },
      "source": [
        "plt.figure(figsize = (15,10))\n",
        "sns.countplot(df_train['marital.status'], order = df_train['marital.status'].value_counts().index)\n",
        "plt.show()"
      ],
      "execution_count": null,
      "outputs": [
        {
          "output_type": "display_data",
          "data": {
            "image/png": "[encoded data removed]",
            "text/plain": [
              "<Figure size 1080x720 with 1 Axes>"
            ]
          },
          "metadata": {
            "needs_background": "light"
          }
        }
      ]
    },
    {
      "cell_type": "code",
      "metadata": {
        "id": "MMvDMeDwgeDZ",
        "colab": {
          "base_uri": "https://localhost:8080/"
        },
        "outputId": "8d81ef3a-63bb-4a48-c328-51f7a4476a06"
      },
      "source": [
        "df_train['marital.status'].value_counts()"
      ],
      "execution_count": null,
      "outputs": [
        {
          "output_type": "execute_result",
          "data": {
            "text/plain": [
              "Married-civ-spouse       12711\n",
              "Never-married             9056\n",
              "Divorced                  3769\n",
              "Separated                  857\n",
              "Widowed                    856\n",
              "Married-spouse-absent      365\n",
              "Married-AF-spouse           21\n",
              "Name: marital.status, dtype: int64"
            ]
          },
          "metadata": {},
          "execution_count": 828
        }
      ]
    },
    {
      "cell_type": "code",
      "metadata": {
        "id": "hTijZ3nhgmDR",
        "colab": {
          "base_uri": "https://localhost:8080/"
        },
        "outputId": "2ed5550a-9be5-467f-b874-272b20818c58"
      },
      "source": [
        "df_train.groupby(['marital.status','income']).size()"
      ],
      "execution_count": null,
      "outputs": [
        {
          "output_type": "execute_result",
          "data": {
            "text/plain": [
              "marital.status         income\n",
              "Divorced               <=50K     3361\n",
              "                       >50K       408\n",
              "Married-AF-spouse      <=50K       12\n",
              "                       >50K         9\n",
              "Married-civ-spouse     <=50K     7001\n",
              "                       >50K      5710\n",
              "Married-spouse-absent  <=50K      333\n",
              "                       >50K        32\n",
              "Never-married          <=50K     8644\n",
              "                       >50K       412\n",
              "Separated              <=50K      800\n",
              "                       >50K        57\n",
              "Widowed                <=50K      781\n",
              "                       >50K        75\n",
              "dtype: int64"
            ]
          },
          "metadata": {},
          "execution_count": 829
        }
      ]
    },
    {
      "cell_type": "markdown",
      "metadata": {
        "id": "sxkkaea0hUsr"
      },
      "source": [
        "La diferencia más grande en este caso la encontramos en las personas que nunca han estado casadas debido a que el mayor porcentaje de ellas cobra menos de 50k anuales, probablemente porque son muy jóvenes y no cuentan con mucha experiencia."
      ]
    },
    {
      "cell_type": "code",
      "metadata": {
        "id": "IXh5Clk5iKUT",
        "colab": {
          "base_uri": "https://localhost:8080/"
        },
        "outputId": "7a347176-89ef-4186-e664-79876b590b18"
      },
      "source": [
        "df_train.groupby(['marital.status', 'workclass']).size()"
      ],
      "execution_count": null,
      "outputs": [
        {
          "output_type": "execute_result",
          "data": {
            "text/plain": [
              "marital.status         workclass       \n",
              "Divorced               Federal-gov          150\n",
              "                       Local-gov            314\n",
              "                       Private             2796\n",
              "                       Self-emp-inc          85\n",
              "                       Self-emp-not-inc     250\n",
              "                       State-gov            174\n",
              "Married-AF-spouse      Federal-gov            2\n",
              "                       Private               16\n",
              "                       Self-emp-not-inc       2\n",
              "                       State-gov              1\n",
              "Married-civ-spouse     Federal-gov          405\n",
              "                       Local-gov            859\n",
              "                       Private             8791\n",
              "                       Self-emp-inc         716\n",
              "                       Self-emp-not-inc    1427\n",
              "                       State-gov            513\n",
              "Married-spouse-absent  Federal-gov            6\n",
              "                       Local-gov             21\n",
              "                       Private              290\n",
              "                       Self-emp-inc           5\n",
              "                       Self-emp-not-inc      28\n",
              "                       State-gov             15\n",
              "Never-married          Federal-gov          205\n",
              "                       Local-gov            444\n",
              "                       Private             7606\n",
              "                       Self-emp-inc         104\n",
              "                       Self-emp-not-inc     341\n",
              "                       State-gov            356\n",
              "Separated              Federal-gov           23\n",
              "                       Local-gov             54\n",
              "                       Private              681\n",
              "                       Self-emp-inc          17\n",
              "                       Self-emp-not-inc      46\n",
              "                       State-gov             36\n",
              "Widowed                Federal-gov           31\n",
              "                       Local-gov             77\n",
              "                       Private              638\n",
              "                       Self-emp-inc          26\n",
              "                       Self-emp-not-inc      62\n",
              "                       State-gov             22\n",
              "dtype: int64"
            ]
          },
          "metadata": {},
          "execution_count": 830
        }
      ]
    },
    {
      "cell_type": "markdown",
      "metadata": {
        "id": "w9Hs-VSpp5dW"
      },
      "source": [
        "Nuevamente, podemos ver claramente que la mayoría de las personas de cada categoría trabajan principalmente en el sector privado."
      ]
    },
    {
      "cell_type": "code",
      "metadata": {
        "id": "xpPprYyeqCvI",
        "colab": {
          "base_uri": "https://localhost:8080/"
        },
        "outputId": "3b9c1654-4d83-4a40-9c33-97fb6d0c9d65"
      },
      "source": [
        "df_train.groupby(['marital.status','education.num']).size()"
      ],
      "execution_count": null,
      "outputs": [
        {
          "output_type": "execute_result",
          "data": {
            "text/plain": [
              "marital.status         education.num\n",
              "Divorced               1                 383\n",
              "                       2                1374\n",
              "                       3                 904\n",
              "                       4                 376\n",
              "                       5                 457\n",
              "                       6                 248\n",
              "                       7                  27\n",
              "Married-AF-spouse      2                  12\n",
              "                       3                   3\n",
              "                       4                   3\n",
              "                       5                   3\n",
              "Married-civ-spouse     1                1391\n",
              "                       2                4118\n",
              "                       3                2422\n",
              "                       4                 942\n",
              "                       5                2396\n",
              "                       6                1203\n",
              "                       7                 239\n",
              "Married-spouse-absent  1                  85\n",
              "                       2                 108\n",
              "                       3                  70\n",
              "                       4                  20\n",
              "                       5                  57\n",
              "                       6                  19\n",
              "                       7                   6\n",
              "Never-married          1                1360\n",
              "                       2                2615\n",
              "                       3                2487\n",
              "                       4                 579\n",
              "                       5                1521\n",
              "                       6                 428\n",
              "                       7                  66\n",
              "Separated              1                 156\n",
              "                       2                 341\n",
              "                       3                 189\n",
              "                       4                  57\n",
              "                       5                  78\n",
              "                       6                  29\n",
              "                       7                   7\n",
              "Widowed                1                 182\n",
              "                       2                 356\n",
              "                       3                 143\n",
              "                       4                  55\n",
              "                       5                  71\n",
              "                       6                  42\n",
              "                       7                   7\n",
              "dtype: int64"
            ]
          },
          "metadata": {},
          "execution_count": 831
        }
      ]
    },
    {
      "cell_type": "markdown",
      "metadata": {
        "id": "trAef6mCqjSa"
      },
      "source": [
        "Gran parte de las personas que tienen títulos secundarios, masters, bachelors o parte de universidad cursada tienden a tener matrimonios por civil. Y no vemos gran cantidad de divorcios en relación a los casamientos."
      ]
    },
    {
      "cell_type": "markdown",
      "metadata": {
        "id": "KVTWz5iTrwqz"
      },
      "source": [
        "Analizando las diferentes clasificaciones y valores de la columna referida al estado civil, luego de investigar sobre los significados de cada categoría, decidimos agruparlos de la siguiente forma para poder trabajar mejor y de manera más eficaz:\n",
        "\n",
        "\n",
        "| marital.status | Nueva clasificación \n",
        "|---------------|:----------------|\n",
        "|Married-civ-spouse   | Married\n",
        "|Married-AF-spouse    | Married\n",
        "|Married-spouse-absent |Married\n",
        "|Divorced     |Separated\n",
        "|Separated       |Separated\n",
        "|Widowed       |Widowed\n",
        "|Never-married    |Never-married\n",
        "\n",
        "Realizamos estos cambios porque según lo que investigamos, concluimos que:\n",
        "\n",
        "- Married-civ-spouse: casamiento por civil\n",
        "- Married-AF-spouse: matrimonio donde uno de los dos se encuentra en las fuerzas armadas\n",
        "- Married-spouse-absent: están casados pero viven en casas separadas\n",
        "- Divorced: papeles de divorcio ya firmados\n",
        "- Separated: separados pero no ante la ley\n",
        "- Widowed: viudos\n",
        "- Never-married: nunca se casaron"
      ]
    },
    {
      "cell_type": "code",
      "metadata": {
        "id": "4Cxtad36r8_L"
      },
      "source": [
        "  df_train['marital.status'][df_train['marital.status'] == 'Married-civ-spouse'] =  'Married'\n",
        "  df_train['marital.status'][df_train['marital.status'] == 'Married-AF-spouse'] =  'Married'\n",
        "  df_train['marital.status'][df_train['marital.status'] == 'Married-spouse-absent'] =  'Married'\n",
        "  df_train['marital.status'][df_train['marital.status'] == 'Divorced'] =  'Separated'\n",
        "  df_train['marital.status'][df_train['marital.status'] == 'Separated'] =  'Separated'\n",
        "  df_train['marital.status'][df_train['marital.status'] == 'Widowed'] =  'Widowed'\n",
        "  df_train['marital.status'][df_train['marital.status'] == 'Never-married'] =  'Never-married'"
      ],
      "execution_count": null,
      "outputs": []
    },
    {
      "cell_type": "code",
      "metadata": {
        "id": "QjfnYwaUYNdd"
      },
      "source": [
        " df_test['marital.status'][df_test['marital.status'] == 'Married-civ-spouse'] =  'Married'\n",
        " df_test['marital.status'][df_test['marital.status'] == 'Married-AF-spouse'] =  'Married'\n",
        " df_test['marital.status'][df_test['marital.status'] == 'Married-spouse-absent'] =  'Married'\n",
        " df_test['marital.status'][df_test['marital.status'] == 'Divorced'] =  'Separated'\n",
        " df_test['marital.status'][df_test['marital.status'] == 'Separated'] =  'Separated'\n",
        " df_test['marital.status'][df_test['marital.status'] == 'Widowed'] =  'Widowed'\n",
        " df_test['marital.status'][df_test['marital.status'] == 'Never-married'] =  'Never-married'"
      ],
      "execution_count": null,
      "outputs": []
    },
    {
      "cell_type": "markdown",
      "metadata": {
        "id": "iW-0IpR6u5PT"
      },
      "source": [
        "####Native country"
      ]
    },
    {
      "cell_type": "code",
      "metadata": {
        "id": "QZcnppYLu-wq",
        "colab": {
          "base_uri": "https://localhost:8080/",
          "height": 621
        },
        "outputId": "6bfd9cc7-a248-4325-80fa-4b472beaf792"
      },
      "source": [
        "plt.figure(figsize=(30,15))\n",
        "sns.countplot(df_train['native.country'], order = df_train['native.country'].value_counts().index)\n",
        "plt.show()"
      ],
      "execution_count": null,
      "outputs": [
        {
          "output_type": "display_data",
          "data": {
            "image/png": "[encoded data removed]",
            "text/plain": [
              "<Figure size 2160x1080 with 1 Axes>"
            ]
          },
          "metadata": {
            "needs_background": "light"
          }
        }
      ]
    },
    {
      "cell_type": "code",
      "metadata": {
        "id": "hVobCP5KvNma",
        "colab": {
          "base_uri": "https://localhost:8080/"
        },
        "outputId": "1078b757-307f-445b-bde5-0dbb8db4c2f6"
      },
      "source": [
        "df_train.value_counts('native.country', normalize = True)*100"
      ],
      "execution_count": null,
      "outputs": [
        {
          "output_type": "execute_result",
          "data": {
            "text/plain": [
              "native.country\n",
              "United-States                 91.375180\n",
              "Mexico                         1.960857\n",
              "Philippines                    0.611846\n",
              "Germany                        0.398069\n",
              "Canada                         0.357525\n",
              "Puerto-Rico                    0.346467\n",
              "El-Salvador                    0.346467\n",
              "India                          0.309609\n",
              "England                        0.287494\n",
              "Cuba                           0.283808\n",
              "Jamaica                        0.265379\n",
              "China                          0.239578\n",
              "Dominican-Republic             0.235893\n",
              "South                          0.235893\n",
              "Italy                          0.224835\n",
              "Vietnam                        0.206406\n",
              "Japan                          0.206406\n",
              "Poland                         0.176919\n",
              "Columbia                       0.169548\n",
              "Guatemala                      0.162176\n",
              "Haiti                          0.151119\n",
              "Taiwan                         0.147433\n",
              "Iran                           0.140061\n",
              "Portugal                       0.129004\n",
              "Nicaragua                      0.117946\n",
              "Greece                         0.099517\n",
              "Ecuador                        0.092146\n",
              "Peru                           0.081088\n",
              "France                         0.073716\n",
              "Ireland                        0.070031\n",
              "Cambodia                       0.066345\n",
              "Hong                           0.066345\n",
              "Laos                           0.055287\n",
              "Yugoslavia                     0.051601\n",
              "Thailand                       0.047916\n",
              "Hungary                        0.044230\n",
              "Trinadad&Tobago                0.044230\n",
              "Honduras                       0.040544\n",
              "Outlying-US(Guam-USVI-etc)     0.040544\n",
              "Scotland                       0.036858\n",
              "Holand-Netherlands             0.003686\n",
              "dtype: float64"
            ]
          },
          "metadata": {},
          "execution_count": 836
        }
      ]
    },
    {
      "cell_type": "markdown",
      "metadata": {
        "id": "u1g4XsBxvcjb"
      },
      "source": [
        "Como vemos que Estados Unidos representa el 91% de la totalidad del dataset, decidimos analizar el resto de los países en conjunto, para poder utilizar esos datos y no dropearlos. Recordemos que en esta variable tenemos 1,8% de datos nulos y los vamos a agrupar con países distintos a USA."
      ]
    },
    {
      "cell_type": "code",
      "metadata": {
        "id": "ehf2YKaGvanr"
      },
      "source": [
        "df_train['native.country'][df_train['native.country'] == 'United-States'] = 1 \n",
        "df_train['native.country'][df_train['native.country'] != 'United-States'] = 0"
      ],
      "execution_count": null,
      "outputs": []
    },
    {
      "cell_type": "code",
      "metadata": {
        "id": "daAgffTfYlF6"
      },
      "source": [
        "df_test['native.country'][df_test['native.country'] == 'United-States'] = 1 \n",
        "df_test['native.country'][df_test['native.country'] != 'United-States'] = 0"
      ],
      "execution_count": null,
      "outputs": []
    },
    {
      "cell_type": "markdown",
      "metadata": {
        "id": "RLOBfSrRvnUR"
      },
      "source": [
        "####Occupation"
      ]
    },
    {
      "cell_type": "code",
      "metadata": {
        "id": "i9EWLXrsvt-n",
        "colab": {
          "base_uri": "https://localhost:8080/",
          "height": 606
        },
        "outputId": "05684be5-426c-43f1-82eb-a4594c1e243c"
      },
      "source": [
        "plt.figure(figsize = (20,10))\n",
        "sns.countplot(df_train['occupation'], order = df_train.occupation.value_counts().index)\n",
        "plt.show()"
      ],
      "execution_count": null,
      "outputs": [
        {
          "output_type": "display_data",
          "data": {
            "image/png": "[encoded data removed]",
            "text/plain": [
              "<Figure size 1440x720 with 1 Axes>"
            ]
          },
          "metadata": {
            "needs_background": "light"
          }
        }
      ]
    },
    {
      "cell_type": "code",
      "metadata": {
        "id": "5bqNBzPFv211",
        "colab": {
          "base_uri": "https://localhost:8080/"
        },
        "outputId": "101f6d6e-428f-4757-f94e-2f328cf6da51"
      },
      "source": [
        "df_train['occupation'].value_counts()"
      ],
      "execution_count": null,
      "outputs": [
        {
          "output_type": "execute_result",
          "data": {
            "text/plain": [
              "Prof-specialty       3539\n",
              "Craft-repair         3508\n",
              "Exec-managerial      3450\n",
              "Adm-clerical         3234\n",
              "Sales                3065\n",
              "Other-service        2773\n",
              "Machine-op-inspct    1691\n",
              "Transport-moving     1377\n",
              "Handlers-cleaners    1161\n",
              "Farming-fishing       847\n",
              "Tech-support          767\n",
              "Protective-serv       557\n",
              "Priv-house-serv       120\n",
              "Armed-Forces            7\n",
              "Name: occupation, dtype: int64"
            ]
          },
          "metadata": {},
          "execution_count": 841
        }
      ]
    },
    {
      "cell_type": "markdown",
      "metadata": {
        "id": "pnSGAPRQwp-Z"
      },
      "source": [
        "Recordemos que en esta columna teníamos aprox 5,8% de los valores que eran nulos. Veamos si realizando conexiones con algunas otras columnas podemos encontrar un valor para reemplazar esos nulos y no eliminarlos."
      ]
    },
    {
      "cell_type": "code",
      "metadata": {
        "id": "1V3TxfzTw-vs",
        "colab": {
          "base_uri": "https://localhost:8080/"
        },
        "outputId": "a7f06b29-9632-4d14-c0b6-06b4a7e49c3b"
      },
      "source": [
        "df_train.groupby(['occupation', 'education.num']).size()"
      ],
      "execution_count": null,
      "outputs": [
        {
          "output_type": "execute_result",
          "data": {
            "text/plain": [
              "occupation        education.num\n",
              "Adm-clerical      1                 149\n",
              "                  2                1180\n",
              "                  3                1089\n",
              "                  4                 302\n",
              "                  5                 444\n",
              "                                   ... \n",
              "Transport-moving  3                 247\n",
              "                  4                  52\n",
              "                  5                  53\n",
              "                  6                  10\n",
              "                  7                   1\n",
              "Length: 89, dtype: int64"
            ]
          },
          "metadata": {},
          "execution_count": 842
        }
      ]
    },
    {
      "cell_type": "code",
      "metadata": {
        "id": "Bc_U9kFVxWRn",
        "colab": {
          "base_uri": "https://localhost:8080/"
        },
        "outputId": "9e145f2b-de09-48ae-9502-d6aebcaaec99"
      },
      "source": [
        "df_train.groupby(['occupation', 'workclass']).size()"
      ],
      "execution_count": null,
      "outputs": [
        {
          "output_type": "execute_result",
          "data": {
            "text/plain": [
              "occupation        workclass       \n",
              "Adm-clerical      Federal-gov          277\n",
              "                  Local-gov            242\n",
              "                  Private             2427\n",
              "                  Self-emp-inc          24\n",
              "                  Self-emp-not-inc      45\n",
              "                                      ... \n",
              "Transport-moving  Local-gov            101\n",
              "                  Private             1092\n",
              "                  Self-emp-inc          25\n",
              "                  Self-emp-not-inc     104\n",
              "                  State-gov             33\n",
              "Length: 74, dtype: int64"
            ]
          },
          "metadata": {},
          "execution_count": 843
        }
      ]
    },
    {
      "cell_type": "markdown",
      "metadata": {
        "id": "26EaL361241r"
      },
      "source": [
        "Rellenamos los nulos con la moda de la columna ocupation."
      ]
    },
    {
      "cell_type": "code",
      "metadata": {
        "id": "OmJRq4Ti1n97",
        "colab": {
          "base_uri": "https://localhost:8080/"
        },
        "outputId": "46247d20-d51b-4c20-c137-7848c2c499d6"
      },
      "source": [
        "df_train['occupation'] = df_train['occupation'].fillna(df_train['occupation'].mode().values[0], inplace = False)\n",
        "df_train['occupation']"
      ],
      "execution_count": null,
      "outputs": [
        {
          "output_type": "execute_result",
          "data": {
            "text/plain": [
              "ID\n",
              "24451     Protective-serv\n",
              "985       Exec-managerial\n",
              "30229        Craft-repair\n",
              "7107       Prof-specialty\n",
              "27639     Exec-managerial\n",
              "               ...       \n",
              "29802    Transport-moving\n",
              "5390       Prof-specialty\n",
              "860          Tech-support\n",
              "15795               Sales\n",
              "23654     Exec-managerial\n",
              "Name: occupation, Length: 27635, dtype: object"
            ]
          },
          "metadata": {},
          "execution_count": 844
        }
      ]
    },
    {
      "cell_type": "code",
      "metadata": {
        "colab": {
          "base_uri": "https://localhost:8080/"
        },
        "id": "vsJHEK5SYrec",
        "outputId": "2dc12e8e-8449-471d-f9a5-fb8b1e344dd8"
      },
      "source": [
        "df_test['occupation'] = df_test['occupation'].fillna(df_test['occupation'].mode().values[0], inplace = False)\n",
        "df_test['occupation']"
      ],
      "execution_count": null,
      "outputs": [
        {
          "output_type": "execute_result",
          "data": {
            "text/plain": [
              "ID\n",
              "3643     Machine-op-inspct\n",
              "16036      Exec-managerial\n",
              "9401     Machine-op-inspct\n",
              "17903       Prof-specialty\n",
              "5198        Prof-specialty\n",
              "               ...        \n",
              "19468         Craft-repair\n",
              "7554          Adm-clerical\n",
              "25076         Adm-clerical\n",
              "9731          Adm-clerical\n",
              "25258         Craft-repair\n",
              "Name: occupation, Length: 4881, dtype: object"
            ]
          },
          "metadata": {},
          "execution_count": 845
        }
      ]
    },
    {
      "cell_type": "markdown",
      "metadata": {
        "id": "WkQQx1qX2-j6"
      },
      "source": [
        "Y corroboramos que se haya realizado correctamente el cambio."
      ]
    },
    {
      "cell_type": "code",
      "metadata": {
        "id": "kSBbtn_P2JJh",
        "colab": {
          "base_uri": "https://localhost:8080/"
        },
        "outputId": "ce87115b-9b85-4b2b-9dbd-461c8c14d894"
      },
      "source": [
        "df_train['occupation'].isna().sum()"
      ],
      "execution_count": null,
      "outputs": [
        {
          "output_type": "execute_result",
          "data": {
            "text/plain": [
              "0"
            ]
          },
          "metadata": {},
          "execution_count": 846
        }
      ]
    },
    {
      "cell_type": "markdown",
      "metadata": {
        "id": "sR9PV6C25reK"
      },
      "source": [
        "####Race"
      ]
    },
    {
      "cell_type": "code",
      "metadata": {
        "id": "cWIE61Rb5y_K",
        "colab": {
          "base_uri": "https://localhost:8080/",
          "height": 606
        },
        "outputId": "f824704d-b833-441a-d84a-eb3b74b61664"
      },
      "source": [
        "plt.figure(figsize=(15,10))\n",
        "sns.countplot(df_train['race'])\n",
        "plt.show()"
      ],
      "execution_count": null,
      "outputs": [
        {
          "output_type": "display_data",
          "data": {
            "image/png": "[encoded data removed]",
            "text/plain": [
              "<Figure size 1080x720 with 1 Axes>"
            ]
          },
          "metadata": {
            "needs_background": "light"
          }
        }
      ]
    },
    {
      "cell_type": "code",
      "metadata": {
        "id": "q4hn_QAoDA2t",
        "colab": {
          "base_uri": "https://localhost:8080/"
        },
        "outputId": "39745e23-f6ad-4a14-ecd9-5dcad24bfbdc"
      },
      "source": [
        "df_train['race'].value_counts(normalize = True)"
      ],
      "execution_count": null,
      "outputs": [
        {
          "output_type": "execute_result",
          "data": {
            "text/plain": [
              "White                 0.854134\n",
              "Black                 0.095748\n",
              "Asian-Pac-Islander    0.032025\n",
              "Amer-Indian-Eskimo    0.009517\n",
              "Other                 0.008576\n",
              "Name: race, dtype: float64"
            ]
          },
          "metadata": {},
          "execution_count": 848
        }
      ]
    },
    {
      "cell_type": "markdown",
      "metadata": {
        "id": "m2QQUoK3DEng"
      },
      "source": [
        "Predomina la raza blanca sobre las demás con un 85%"
      ]
    },
    {
      "cell_type": "code",
      "metadata": {
        "id": "MJSgWvLi6UZj",
        "colab": {
          "base_uri": "https://localhost:8080/"
        },
        "outputId": "2d342ea4-670e-412e-92b3-b0dc6e51a626"
      },
      "source": [
        "df_train.groupby(['race', 'income']).size()"
      ],
      "execution_count": null,
      "outputs": [
        {
          "output_type": "execute_result",
          "data": {
            "text/plain": [
              "race                income\n",
              "Amer-Indian-Eskimo  <=50K       234\n",
              "                    >50K         29\n",
              "Asian-Pac-Islander  <=50K       650\n",
              "                    >50K        235\n",
              "Black               <=50K      2325\n",
              "                    >50K        321\n",
              "Other               <=50K       214\n",
              "                    >50K         23\n",
              "White               <=50K     17509\n",
              "                    >50K       6095\n",
              "dtype: int64"
            ]
          },
          "metadata": {},
          "execution_count": 849
        }
      ]
    },
    {
      "cell_type": "markdown",
      "metadata": {
        "id": "Fkj1SrowGKeW"
      },
      "source": [
        "####Sex"
      ]
    },
    {
      "cell_type": "code",
      "metadata": {
        "id": "xl7zf1IOGMtS",
        "colab": {
          "base_uri": "https://localhost:8080/",
          "height": 606
        },
        "outputId": "3a63b66d-90e1-48de-bfb0-432c9d053679"
      },
      "source": [
        "plt.figure(figsize=(10,10))\n",
        "sns.countplot(df_train['sex'], order = df_train.sex.value_counts().index)\n",
        "plt.show()"
      ],
      "execution_count": null,
      "outputs": [
        {
          "output_type": "display_data",
          "data": {
            "image/png": "[encoded data removed]",
            "text/plain": [
              "<Figure size 720x720 with 1 Axes>"
            ]
          },
          "metadata": {
            "needs_background": "light"
          }
        }
      ]
    },
    {
      "cell_type": "code",
      "metadata": {
        "id": "3YekArcBLAoQ",
        "colab": {
          "base_uri": "https://localhost:8080/"
        },
        "outputId": "66e09c1f-2070-47d8-dc4c-c38fa202e6d6"
      },
      "source": [
        "df_train['sex'].value_counts()"
      ],
      "execution_count": null,
      "outputs": [
        {
          "output_type": "execute_result",
          "data": {
            "text/plain": [
              "Male      18507\n",
              "Female     9128\n",
              "Name: sex, dtype: int64"
            ]
          },
          "metadata": {},
          "execution_count": 851
        }
      ]
    },
    {
      "cell_type": "code",
      "metadata": {
        "id": "qQubxDBOK6G2",
        "colab": {
          "base_uri": "https://localhost:8080/"
        },
        "outputId": "2fcfe126-2fae-4c02-b607-312f908689df"
      },
      "source": [
        "df_train.groupby(['sex', 'income']).size()"
      ],
      "execution_count": null,
      "outputs": [
        {
          "output_type": "execute_result",
          "data": {
            "text/plain": [
              "sex     income\n",
              "Female  <=50K      8114\n",
              "        >50K       1014\n",
              "Male    <=50K     12818\n",
              "        >50K       5689\n",
              "dtype: int64"
            ]
          },
          "metadata": {},
          "execution_count": 852
        }
      ]
    },
    {
      "cell_type": "markdown",
      "metadata": {
        "id": "7gk7VURDLyXZ"
      },
      "source": [
        "En esta relación, se deja en evidencia que a las mujeres se les paga menos (ver radio). "
      ]
    },
    {
      "cell_type": "code",
      "metadata": {
        "id": "HDBhSldqKrnD",
        "colab": {
          "base_uri": "https://localhost:8080/"
        },
        "outputId": "5df3509d-95cf-46cd-9524-4209ef319788"
      },
      "source": [
        "df_train.groupby(['sex','education.num']).size()"
      ],
      "execution_count": null,
      "outputs": [
        {
          "output_type": "execute_result",
          "data": {
            "text/plain": [
              "sex     education.num\n",
              "Female  1                1094\n",
              "        2                2879\n",
              "        3                2380\n",
              "        4                 780\n",
              "        5                1381\n",
              "        6                 541\n",
              "        7                  73\n",
              "Male    1                2463\n",
              "        2                6045\n",
              "        3                3838\n",
              "        4                1252\n",
              "        5                3202\n",
              "        6                1428\n",
              "        7                 279\n",
              "dtype: int64"
            ]
          },
          "metadata": {},
          "execution_count": 853
        }
      ]
    },
    {
      "cell_type": "markdown",
      "metadata": {
        "id": "jYpcFsS-MKpJ"
      },
      "source": [
        "Las mujeres predominan más en las primeras categorías de los niveles educativos, y va disminuyendo su número a medida que avanza. Con esto, podríamos decir que las mujeres abandonas la educación en niveles más bajos, en comparación a los hombres."
      ]
    },
    {
      "cell_type": "markdown",
      "metadata": {
        "id": "7FfVMDqcM81l"
      },
      "source": [
        "##Análisis de las columnas numéricas"
      ]
    },
    {
      "cell_type": "markdown",
      "metadata": {
        "id": "KLZ8MWZJOU26"
      },
      "source": [
        "####Capital.gain y Capital.loss"
      ]
    },
    {
      "cell_type": "markdown",
      "metadata": {
        "id": "He1Uxui4Nl9h"
      },
      "source": [
        "Con una mirada rápida sobre el dataset, nos dimos cuenta que es muy probable que estas dos columnas no las necesitemos debido a los datos brindados, por lo que, vamos a ver la distribución para decidir si las dropeamos o no."
      ]
    },
    {
      "cell_type": "code",
      "metadata": {
        "id": "oCWBoXLTrihZ",
        "colab": {
          "base_uri": "https://localhost:8080/",
          "height": 497
        },
        "outputId": "ea6a5ac9-6561-4e10-fd00-b09529bba3b9"
      },
      "source": [
        "plt.figure(figsize = (8,8))\n",
        "sns.boxplot(df_train['capital.loss'])\n",
        "plt.show()"
      ],
      "execution_count": null,
      "outputs": [
        {
          "output_type": "display_data",
          "data": {
            "image/png": "[encoded data removed]",
            "text/plain": [
              "<Figure size 576x576 with 1 Axes>"
            ]
          },
          "metadata": {
            "needs_background": "light"
          }
        }
      ]
    },
    {
      "cell_type": "code",
      "metadata": {
        "id": "knhfG0uVwi5z",
        "colab": {
          "base_uri": "https://localhost:8080/",
          "height": 497
        },
        "outputId": "5e6ccebb-c93a-4664-e65e-4a27e1a8b14a"
      },
      "source": [
        "plt.figure(figsize = (8,8))\n",
        "sns.boxplot(df_train['capital.gain'])\n",
        "plt.show()"
      ],
      "execution_count": null,
      "outputs": [
        {
          "output_type": "display_data",
          "data": {
            "image/png": "[encoded data removed]",
            "text/plain": [
              "<Figure size 576x576 with 1 Axes>"
            ]
          },
          "metadata": {
            "needs_background": "light"
          }
        }
      ]
    },
    {
      "cell_type": "markdown",
      "metadata": {
        "id": "C7E9Si5kN2YR"
      },
      "source": [
        "Vemos que la mayoría de los valores están concentrados entre 0 (cero) y 20000, por lo que, a nuestro criterio, no son representativos en este análisis. Entonces, vamos a dropear estas dos columnas."
      ]
    },
    {
      "cell_type": "code",
      "metadata": {
        "id": "HpHML-QdNzRZ",
        "colab": {
          "base_uri": "https://localhost:8080/",
          "height": 238
        },
        "outputId": "5f882c6b-283b-4a18-dcc1-7afceccb36ff"
      },
      "source": [
        "df_train = df_train.drop(['capital.gain', 'capital.loss'], axis = 1)\n",
        "df_train.head()"
      ],
      "execution_count": null,
      "outputs": [
        {
          "output_type": "execute_result",
          "data": {
            "text/html": [
              "<div>\n",
              "<style scoped>\n",
              "    .dataframe tbody tr th:only-of-type {\n",
              "        vertical-align: middle;\n",
              "    }\n",
              "\n",
              "    .dataframe tbody tr th {\n",
              "        vertical-align: top;\n",
              "    }\n",
              "\n",
              "    .dataframe thead th {\n",
              "        text-align: right;\n",
              "    }\n",
              "</style>\n",
              "<table border=\"1\" class=\"dataframe\">\n",
              "  <thead>\n",
              "    <tr style=\"text-align: right;\">\n",
              "      <th></th>\n",
              "      <th>age</th>\n",
              "      <th>workclass</th>\n",
              "      <th>education.num</th>\n",
              "      <th>marital.status</th>\n",
              "      <th>occupation</th>\n",
              "      <th>relationship</th>\n",
              "      <th>race</th>\n",
              "      <th>sex</th>\n",
              "      <th>hours.per.week</th>\n",
              "      <th>native.country</th>\n",
              "      <th>income</th>\n",
              "    </tr>\n",
              "    <tr>\n",
              "      <th>ID</th>\n",
              "      <th></th>\n",
              "      <th></th>\n",
              "      <th></th>\n",
              "      <th></th>\n",
              "      <th></th>\n",
              "      <th></th>\n",
              "      <th></th>\n",
              "      <th></th>\n",
              "      <th></th>\n",
              "      <th></th>\n",
              "      <th></th>\n",
              "    </tr>\n",
              "  </thead>\n",
              "  <tbody>\n",
              "    <tr>\n",
              "      <th>24451</th>\n",
              "      <td>30</td>\n",
              "      <td>Local-gov</td>\n",
              "      <td>2</td>\n",
              "      <td>Separated</td>\n",
              "      <td>Protective-serv</td>\n",
              "      <td>Own-child</td>\n",
              "      <td>White</td>\n",
              "      <td>Female</td>\n",
              "      <td>32</td>\n",
              "      <td>0</td>\n",
              "      <td>&lt;=50K</td>\n",
              "    </tr>\n",
              "    <tr>\n",
              "      <th>985</th>\n",
              "      <td>37</td>\n",
              "      <td>Private</td>\n",
              "      <td>5</td>\n",
              "      <td>Married</td>\n",
              "      <td>Exec-managerial</td>\n",
              "      <td>Wife</td>\n",
              "      <td>White</td>\n",
              "      <td>Female</td>\n",
              "      <td>40</td>\n",
              "      <td>0</td>\n",
              "      <td>&gt;50K</td>\n",
              "    </tr>\n",
              "    <tr>\n",
              "      <th>30229</th>\n",
              "      <td>41</td>\n",
              "      <td>Private</td>\n",
              "      <td>2</td>\n",
              "      <td>Married</td>\n",
              "      <td>Craft-repair</td>\n",
              "      <td>Husband</td>\n",
              "      <td>White</td>\n",
              "      <td>Male</td>\n",
              "      <td>60</td>\n",
              "      <td>0</td>\n",
              "      <td>&gt;50K</td>\n",
              "    </tr>\n",
              "    <tr>\n",
              "      <th>7107</th>\n",
              "      <td>45</td>\n",
              "      <td>Private</td>\n",
              "      <td>5</td>\n",
              "      <td>Married</td>\n",
              "      <td>Prof-specialty</td>\n",
              "      <td>Husband</td>\n",
              "      <td>White</td>\n",
              "      <td>Male</td>\n",
              "      <td>60</td>\n",
              "      <td>0</td>\n",
              "      <td>&gt;50K</td>\n",
              "    </tr>\n",
              "    <tr>\n",
              "      <th>27639</th>\n",
              "      <td>28</td>\n",
              "      <td>Private</td>\n",
              "      <td>2</td>\n",
              "      <td>Never-married</td>\n",
              "      <td>Exec-managerial</td>\n",
              "      <td>Not-in-family</td>\n",
              "      <td>White</td>\n",
              "      <td>Female</td>\n",
              "      <td>40</td>\n",
              "      <td>0</td>\n",
              "      <td>&lt;=50K</td>\n",
              "    </tr>\n",
              "  </tbody>\n",
              "</table>\n",
              "</div>"
            ],
            "text/plain": [
              "       age  workclass  education.num  ... hours.per.week native.country income\n",
              "ID                                    ...                                     \n",
              "24451   30  Local-gov              2  ...             32              0  <=50K\n",
              "985     37    Private              5  ...             40              0   >50K\n",
              "30229   41    Private              2  ...             60              0   >50K\n",
              "7107    45    Private              5  ...             60              0   >50K\n",
              "27639   28    Private              2  ...             40              0  <=50K\n",
              "\n",
              "[5 rows x 11 columns]"
            ]
          },
          "metadata": {},
          "execution_count": 856
        }
      ]
    },
    {
      "cell_type": "code",
      "metadata": {
        "colab": {
          "base_uri": "https://localhost:8080/",
          "height": 238
        },
        "id": "_huzBxFXZBX7",
        "outputId": "8d9b6375-29f9-487a-a402-160c3c53436f"
      },
      "source": [
        "df_test = df_test.drop(['capital.gain', 'capital.loss'], axis = 1)\n",
        "df_test.head()"
      ],
      "execution_count": null,
      "outputs": [
        {
          "output_type": "execute_result",
          "data": {
            "text/html": [
              "<div>\n",
              "<style scoped>\n",
              "    .dataframe tbody tr th:only-of-type {\n",
              "        vertical-align: middle;\n",
              "    }\n",
              "\n",
              "    .dataframe tbody tr th {\n",
              "        vertical-align: top;\n",
              "    }\n",
              "\n",
              "    .dataframe thead th {\n",
              "        text-align: right;\n",
              "    }\n",
              "</style>\n",
              "<table border=\"1\" class=\"dataframe\">\n",
              "  <thead>\n",
              "    <tr style=\"text-align: right;\">\n",
              "      <th></th>\n",
              "      <th>age</th>\n",
              "      <th>workclass</th>\n",
              "      <th>education.num</th>\n",
              "      <th>marital.status</th>\n",
              "      <th>occupation</th>\n",
              "      <th>relationship</th>\n",
              "      <th>race</th>\n",
              "      <th>sex</th>\n",
              "      <th>hours.per.week</th>\n",
              "      <th>native.country</th>\n",
              "    </tr>\n",
              "    <tr>\n",
              "      <th>ID</th>\n",
              "      <th></th>\n",
              "      <th></th>\n",
              "      <th></th>\n",
              "      <th></th>\n",
              "      <th></th>\n",
              "      <th></th>\n",
              "      <th></th>\n",
              "      <th></th>\n",
              "      <th></th>\n",
              "      <th></th>\n",
              "    </tr>\n",
              "  </thead>\n",
              "  <tbody>\n",
              "    <tr>\n",
              "      <th>3643</th>\n",
              "      <td>53</td>\n",
              "      <td>Private</td>\n",
              "      <td>3</td>\n",
              "      <td>Married</td>\n",
              "      <td>Machine-op-inspct</td>\n",
              "      <td>Husband</td>\n",
              "      <td>White</td>\n",
              "      <td>Male</td>\n",
              "      <td>40</td>\n",
              "      <td>0</td>\n",
              "    </tr>\n",
              "    <tr>\n",
              "      <th>16036</th>\n",
              "      <td>18</td>\n",
              "      <td>Private</td>\n",
              "      <td>1</td>\n",
              "      <td>Never-married</td>\n",
              "      <td>Exec-managerial</td>\n",
              "      <td>Own-child</td>\n",
              "      <td>White</td>\n",
              "      <td>Male</td>\n",
              "      <td>25</td>\n",
              "      <td>0</td>\n",
              "    </tr>\n",
              "    <tr>\n",
              "      <th>9401</th>\n",
              "      <td>42</td>\n",
              "      <td>Private</td>\n",
              "      <td>3</td>\n",
              "      <td>Married</td>\n",
              "      <td>Machine-op-inspct</td>\n",
              "      <td>Wife</td>\n",
              "      <td>White</td>\n",
              "      <td>Female</td>\n",
              "      <td>37</td>\n",
              "      <td>0</td>\n",
              "    </tr>\n",
              "    <tr>\n",
              "      <th>17903</th>\n",
              "      <td>49</td>\n",
              "      <td>Self-emp-inc</td>\n",
              "      <td>7</td>\n",
              "      <td>Married</td>\n",
              "      <td>Prof-specialty</td>\n",
              "      <td>Husband</td>\n",
              "      <td>Black</td>\n",
              "      <td>Male</td>\n",
              "      <td>60</td>\n",
              "      <td>0</td>\n",
              "    </tr>\n",
              "    <tr>\n",
              "      <th>5198</th>\n",
              "      <td>58</td>\n",
              "      <td>Local-gov</td>\n",
              "      <td>5</td>\n",
              "      <td>Married</td>\n",
              "      <td>Prof-specialty</td>\n",
              "      <td>Wife</td>\n",
              "      <td>White</td>\n",
              "      <td>Female</td>\n",
              "      <td>40</td>\n",
              "      <td>0</td>\n",
              "    </tr>\n",
              "  </tbody>\n",
              "</table>\n",
              "</div>"
            ],
            "text/plain": [
              "       age     workclass  education.num  ...     sex hours.per.week native.country\n",
              "ID                                       ...                                      \n",
              "3643    53       Private              3  ...    Male             40              0\n",
              "16036   18       Private              1  ...    Male             25              0\n",
              "9401    42       Private              3  ...  Female             37              0\n",
              "17903   49  Self-emp-inc              7  ...    Male             60              0\n",
              "5198    58     Local-gov              5  ...  Female             40              0\n",
              "\n",
              "[5 rows x 10 columns]"
            ]
          },
          "metadata": {},
          "execution_count": 857
        }
      ]
    },
    {
      "cell_type": "markdown",
      "metadata": {
        "id": "0jPEGsrrOnmA"
      },
      "source": [
        "####Education.num"
      ]
    },
    {
      "cell_type": "code",
      "metadata": {
        "id": "_-h9nA7DN4Y0",
        "colab": {
          "base_uri": "https://localhost:8080/",
          "height": 497
        },
        "outputId": "c4a36cb9-4233-4a12-9799-fe8ee4583c91"
      },
      "source": [
        "plt.figure(figsize=(15,8))\n",
        "sns.distplot(df_train['education.num'])\n",
        "plt.show()"
      ],
      "execution_count": null,
      "outputs": [
        {
          "output_type": "display_data",
          "data": {
            "image/png": "[encoded data removed]",
            "text/plain": [
              "<Figure size 1080x576 with 1 Axes>"
            ]
          },
          "metadata": {
            "needs_background": "light"
          }
        }
      ]
    },
    {
      "cell_type": "code",
      "metadata": {
        "id": "Vl7prXIVOu_S",
        "colab": {
          "base_uri": "https://localhost:8080/",
          "height": 497
        },
        "outputId": "f0457965-e2d0-49f8-ffa3-2da33a07d44a"
      },
      "source": [
        "plt.figure(figsize=(15,8))\n",
        "sns.boxplot(df_train['education.num'])\n",
        "plt.show()"
      ],
      "execution_count": null,
      "outputs": [
        {
          "output_type": "display_data",
          "data": {
            "image/png": "[encoded data removed]",
            "text/plain": [
              "<Figure size 1080x576 with 1 Axes>"
            ]
          },
          "metadata": {
            "needs_background": "light"
          }
        }
      ]
    },
    {
      "cell_type": "markdown",
      "metadata": {
        "id": "N95UZmldPcj5"
      },
      "source": [
        "La mayoría de las personas abandonan entre nuestras categorías 2 y 4 (entre H-S y pregrado)."
      ]
    },
    {
      "cell_type": "markdown",
      "metadata": {
        "id": "TBPP8QuEPyIk"
      },
      "source": [
        "####Hours.per.week"
      ]
    },
    {
      "cell_type": "code",
      "metadata": {
        "id": "pxVZBlrVPV9y",
        "colab": {
          "base_uri": "https://localhost:8080/",
          "height": 500
        },
        "outputId": "9f38c407-dd74-41a8-8cf9-1af6d49fa9fb"
      },
      "source": [
        "plt.figure(figsize=(15,8))\n",
        "sns.distplot(df_train['hours.per.week'])\n",
        "plt.show()"
      ],
      "execution_count": null,
      "outputs": [
        {
          "output_type": "display_data",
          "data": {
            "image/png": "[encoded data removed]",
            "text/plain": [
              "<Figure size 1080x576 with 1 Axes>"
            ]
          },
          "metadata": {
            "needs_background": "light"
          }
        }
      ]
    },
    {
      "cell_type": "markdown",
      "metadata": {
        "id": "G4NZ9m1dQBQX"
      },
      "source": [
        "Vemos que muchas personas trabajan alrededor de 40hs semanales. También, vemos que hay empleados que trabajan en horas muy cercanas del lado del 0, probablemente sean sin paga."
      ]
    },
    {
      "cell_type": "code",
      "metadata": {
        "id": "L7ruBy-mP-z3",
        "colab": {
          "base_uri": "https://localhost:8080/",
          "height": 497
        },
        "outputId": "8893206a-8337-4ca7-bba6-be4ca7f8532b"
      },
      "source": [
        "plt.figure(figsize=(15,8))\n",
        "sns.boxplot(df_train['hours.per.week'])\n",
        "plt.show()"
      ],
      "execution_count": null,
      "outputs": [
        {
          "output_type": "display_data",
          "data": {
            "image/png": "[encoded data removed]",
            "text/plain": [
              "<Figure size 1080x576 with 1 Axes>"
            ]
          },
          "metadata": {
            "needs_background": "light"
          }
        }
      ]
    },
    {
      "cell_type": "markdown",
      "metadata": {
        "id": "blaS9c7oRoGI"
      },
      "source": [
        "Si bien vemos la mayoría trabajando 40 hs semanales, también las encontramos en el rango de 30-50 hs. Sin embargo, hay mucha cantidad de personas que trabajan muchas horas más (hasta 100hs) y muchas horas menos. Si trabajan de más, dependiendo de su ocupación, podríamos decir que trabajan en proyectos muy complejos con demasiada dedicación y pasión, o que pasan un momento muy difícil por lo que necesitan trabajar más para aumentar sus ingresos."
      ]
    },
    {
      "cell_type": "markdown",
      "metadata": {
        "id": "OEaMM_PTSKhc"
      },
      "source": [
        "####Age"
      ]
    },
    {
      "cell_type": "code",
      "metadata": {
        "id": "iUaQjJh-ReM6",
        "colab": {
          "base_uri": "https://localhost:8080/",
          "height": 497
        },
        "outputId": "367e6dae-4de9-4b82-8104-bfa56d681e6f"
      },
      "source": [
        "plt.figure(figsize=(15,8))\n",
        "sns.distplot(df_train['age'])\n",
        "plt.show()"
      ],
      "execution_count": null,
      "outputs": [
        {
          "output_type": "display_data",
          "data": {
            "image/png": "[encoded data removed]",
            "text/plain": [
              "<Figure size 1080x576 with 1 Axes>"
            ]
          },
          "metadata": {
            "needs_background": "light"
          }
        }
      ]
    },
    {
      "cell_type": "code",
      "metadata": {
        "id": "WG5TE1aqSQPo",
        "colab": {
          "base_uri": "https://localhost:8080/",
          "height": 497
        },
        "outputId": "5c3aafe0-c9d6-4ba8-ec9d-785b67399431"
      },
      "source": [
        "plt.figure(figsize=(15,8))\n",
        "sns.boxplot(df_train['age'])\n",
        "plt.show()"
      ],
      "execution_count": null,
      "outputs": [
        {
          "output_type": "display_data",
          "data": {
            "image/png": "[encoded data removed]",
            "text/plain": [
              "<Figure size 1080x576 with 1 Axes>"
            ]
          },
          "metadata": {
            "needs_background": "light"
          }
        }
      ]
    },
    {
      "cell_type": "markdown",
      "metadata": {
        "id": "1LDEBz776hpw"
      },
      "source": [
        "Vemos que en esta distribución encontramos un rango desde 17 hasta 90 años aproximadamente. Lo que nos llama la atención es que encontramos personas muy grandes que siguen trabajando. Consideramos que esto puede ser por vocación o, lo que nos parece más acertado, porque no cuentan con un sistema de reparto para la jubilación como en Argentina, sino que es un sistema similar a las antiguas AFJP, por lo que necesitan generar sus propios ingresos."
      ]
    },
    {
      "cell_type": "markdown",
      "metadata": {
        "id": "C61FndyBSnrh"
      },
      "source": [
        "##Correlación entre variables numéricas"
      ]
    },
    {
      "cell_type": "code",
      "metadata": {
        "id": "f526eICKSVVB",
        "colab": {
          "base_uri": "https://localhost:8080/",
          "height": 143
        },
        "outputId": "275251dd-3bed-48c4-a3ca-fe67031eddcf"
      },
      "source": [
        "df_train.corr()"
      ],
      "execution_count": null,
      "outputs": [
        {
          "output_type": "execute_result",
          "data": {
            "text/html": [
              "<div>\n",
              "<style scoped>\n",
              "    .dataframe tbody tr th:only-of-type {\n",
              "        vertical-align: middle;\n",
              "    }\n",
              "\n",
              "    .dataframe tbody tr th {\n",
              "        vertical-align: top;\n",
              "    }\n",
              "\n",
              "    .dataframe thead th {\n",
              "        text-align: right;\n",
              "    }\n",
              "</style>\n",
              "<table border=\"1\" class=\"dataframe\">\n",
              "  <thead>\n",
              "    <tr style=\"text-align: right;\">\n",
              "      <th></th>\n",
              "      <th>age</th>\n",
              "      <th>education.num</th>\n",
              "      <th>hours.per.week</th>\n",
              "    </tr>\n",
              "  </thead>\n",
              "  <tbody>\n",
              "    <tr>\n",
              "      <th>age</th>\n",
              "      <td>1.000000</td>\n",
              "      <td>0.082602</td>\n",
              "      <td>0.067608</td>\n",
              "    </tr>\n",
              "    <tr>\n",
              "      <th>education.num</th>\n",
              "      <td>0.082602</td>\n",
              "      <td>1.000000</td>\n",
              "      <td>0.147761</td>\n",
              "    </tr>\n",
              "    <tr>\n",
              "      <th>hours.per.week</th>\n",
              "      <td>0.067608</td>\n",
              "      <td>0.147761</td>\n",
              "      <td>1.000000</td>\n",
              "    </tr>\n",
              "  </tbody>\n",
              "</table>\n",
              "</div>"
            ],
            "text/plain": [
              "                     age  education.num  hours.per.week\n",
              "age             1.000000       0.082602        0.067608\n",
              "education.num   0.082602       1.000000        0.147761\n",
              "hours.per.week  0.067608       0.147761        1.000000"
            ]
          },
          "metadata": {},
          "execution_count": 868
        }
      ]
    },
    {
      "cell_type": "markdown",
      "metadata": {
        "id": "XxfDfH2sS3HA"
      },
      "source": [
        "Como podemos observar, no hay ninguna correlación directa grande entre las variables. Sin embargo, sabemos que esto no significa que no haya variables correlacionadas, sino que no encontramos aún esa relación.\n"
      ]
    },
    {
      "cell_type": "code",
      "metadata": {
        "id": "LXI7SGmx1b4P"
      },
      "source": [
        "columnas_numericas = ['age', 'education', 'hours_per_week']"
      ],
      "execution_count": null,
      "outputs": []
    },
    {
      "cell_type": "code",
      "metadata": {
        "colab": {
          "base_uri": "https://localhost:8080/",
          "height": 466
        },
        "id": "L8u_K_Ar0mfW",
        "outputId": "66932c8b-1103-4ff4-d909-48639b6bf7f8"
      },
      "source": [
        "mask = np.triu(np.ones_like(df_train.corr(), dtype=bool))\n",
        "f, ax = plt.subplots(figsize=(8,8))\n",
        "cmap = sns.diverging_palette(240, 10, as_cmap=True)\n",
        "sns.heatmap(df_train.corr(), mask=mask, cmap=cmap, center=0,\n",
        "            square=True, linewidths=.5, annot=True)\n",
        "plt.show()"
      ],
      "execution_count": null,
      "outputs": [
        {
          "output_type": "display_data",
          "data": {
            "image/png": "[encoded data removed]",
            "text/plain": [
              "<Figure size 576x576 with 2 Axes>"
            ]
          },
          "metadata": {
            "needs_background": "light"
          }
        }
      ]
    },
    {
      "cell_type": "markdown",
      "metadata": {
        "id": "X2T1NYdPTaYA"
      },
      "source": [
        "##Seguimos procesando la data..."
      ]
    },
    {
      "cell_type": "markdown",
      "metadata": {
        "id": "HyU_kZ8qUhC7"
      },
      "source": [
        "Primero, vamos a renombrar 'education.num' a 'education' ya que a principios del notebook dropeamos la otra."
      ]
    },
    {
      "cell_type": "code",
      "metadata": {
        "id": "HTFNCL7MUrFd"
      },
      "source": [
        "df_train.rename(columns={'education.num':'education'}, inplace=True)"
      ],
      "execution_count": null,
      "outputs": []
    },
    {
      "cell_type": "code",
      "metadata": {
        "id": "YlYgUyL-ZW1k"
      },
      "source": [
        "df_test.rename(columns={'education.num':'education'}, inplace=True)"
      ],
      "execution_count": null,
      "outputs": []
    },
    {
      "cell_type": "markdown",
      "metadata": {
        "id": "v9hu15tmUwBj"
      },
      "source": [
        "A las columnas restantes, vamos a reemplazar el '.' por '_' para facilitar el uso de ellas."
      ]
    },
    {
      "cell_type": "code",
      "metadata": {
        "id": "YWpH5hEgU93_"
      },
      "source": [
        "arrNombres = df_train.columns\n",
        "arrNuevosNombres = []\n",
        "\n",
        "for nombreColumna in arrNombres:\n",
        "  arrNuevosNombres.append(nombreColumna.replace(\".\", \"_\"))\n",
        "\n",
        "df_train.columns = arrNuevosNombres"
      ],
      "execution_count": null,
      "outputs": []
    },
    {
      "cell_type": "code",
      "metadata": {
        "id": "6kn7F-X_ZbYF"
      },
      "source": [
        "arrNombres = df_test.columns\n",
        "arrNuevosNombres = []\n",
        "\n",
        "for nombreColumna in arrNombres:\n",
        "  arrNuevosNombres.append(nombreColumna.replace(\".\", \"_\"))\n",
        "\n",
        "df_test.columns = arrNuevosNombres"
      ],
      "execution_count": null,
      "outputs": []
    },
    {
      "cell_type": "markdown",
      "metadata": {
        "id": "4uSGR9JcYEcJ"
      },
      "source": [
        "##Encoding Data"
      ]
    },
    {
      "cell_type": "markdown",
      "metadata": {
        "id": "-XtJkw_mUFUq"
      },
      "source": [
        "Ya hemos estado trabajando sobre algunas de nuestras columnas categóricas y ahora vamos a terminar encodeando las que faltan para trabajar mejor con nuestra data."
      ]
    },
    {
      "cell_type": "markdown",
      "metadata": {
        "id": "bsn4__9xVU3u"
      },
      "source": [
        "1. Encodeamos la columna 'sex' con: \n",
        "- Male = 1\n",
        "- Female = 0"
      ]
    },
    {
      "cell_type": "code",
      "metadata": {
        "id": "363EqolcUVG2"
      },
      "source": [
        "df_train.sex[df_train.sex==\"Male\"] = 1\n",
        "df_train.sex[df_train.sex==\"Female\"] = 0"
      ],
      "execution_count": null,
      "outputs": []
    },
    {
      "cell_type": "code",
      "metadata": {
        "id": "j8koY3o5Zo78"
      },
      "source": [
        "df_test.sex[df_test.sex==\"Male\"] = 1\n",
        "df_test.sex[df_test.sex==\"Female\"] = 0"
      ],
      "execution_count": null,
      "outputs": []
    },
    {
      "cell_type": "markdown",
      "metadata": {
        "id": "4WSbWvsVViLR"
      },
      "source": [
        "Con dummies de Pandas seguimos con las demás variables categóricas (recordemos que marital_status ya está lista).\n",
        "\n"
      ]
    },
    {
      "cell_type": "code",
      "metadata": {
        "id": "e52paZ_yVfzj"
      },
      "source": [
        "df_encoded = pd.get_dummies(df_train[\"workclass\"], prefix=\"workclass\")\n",
        "\n",
        "variables = ['marital_status', \"occupation\", \"relationship\", \"race\"]\n",
        "for nombreColumna in variables:\n",
        "  df_encoded = pd.concat([df_encoded, pd.get_dummies(df_train[nombreColumna], prefix=nombreColumna)], axis=1)"
      ],
      "execution_count": null,
      "outputs": []
    },
    {
      "cell_type": "code",
      "metadata": {
        "id": "ltt5rycEZvsY"
      },
      "source": [
        "df_encoded_test = pd.get_dummies(df_test[\"workclass\"], prefix=\"workclass\")\n",
        "\n",
        "variables = ['marital_status', \"occupation\", \"relationship\", \"race\"]\n",
        "for nombreColumna in variables:\n",
        "  df_encoded_test = pd.concat([df_encoded_test, pd.get_dummies(df_test[nombreColumna], prefix=nombreColumna)], axis=1)"
      ],
      "execution_count": null,
      "outputs": []
    },
    {
      "cell_type": "markdown",
      "metadata": {
        "id": "teMnfci4V-MG"
      },
      "source": [
        "Ahora, concatenamos las variables encodeadas al df principal y dropeamos las variables categóricas.\n",
        "\n"
      ]
    },
    {
      "cell_type": "code",
      "metadata": {
        "id": "dcdAXWDuV4WD"
      },
      "source": [
        "df_train =  pd.concat([df_train, df_encoded], axis=1) \n",
        "df_train = df_train.drop([\"workclass\", \"marital_status\", \"occupation\", \"relationship\", \"race\"], axis = 1)"
      ],
      "execution_count": null,
      "outputs": []
    },
    {
      "cell_type": "code",
      "metadata": {
        "id": "5731kUYhZ93v"
      },
      "source": [
        "df_test =  pd.concat([df_test, df_encoded_test], axis=1) \n",
        "df_test = df_test.drop([\"workclass\", \"marital_status\", \"occupation\", \"relationship\", \"race\"], axis = 1)"
      ],
      "execution_count": null,
      "outputs": []
    },
    {
      "cell_type": "markdown",
      "metadata": {
        "id": "I5iZxj3xX1dw"
      },
      "source": [
        "##Outliers"
      ]
    },
    {
      "cell_type": "code",
      "metadata": {
        "id": "Xzw-ShjhUXEj"
      },
      "source": [
        "numerical_columns = ['age', 'hours_per_week']"
      ],
      "execution_count": null,
      "outputs": []
    },
    {
      "cell_type": "code",
      "metadata": {
        "colab": {
          "base_uri": "https://localhost:8080/",
          "height": 1000
        },
        "id": "vfFPdgjzTrU8",
        "outputId": "97c352fd-607d-4d25-c6c8-b3beaf635ec0"
      },
      "source": [
        "for i in range(len(numerical_columns)):\n",
        "    plt.figure(figsize=(15,10))\n",
        "    sns.boxplot(df_train[numerical_columns[i]])\n",
        "plt.show()"
      ],
      "execution_count": null,
      "outputs": [
        {
          "output_type": "display_data",
          "data": {
            "image/png": "[encoded data removed]",
            "text/plain": [
              "<Figure size 1080x720 with 1 Axes>"
            ]
          },
          "metadata": {
            "needs_background": "light"
          }
        },
        {
          "output_type": "display_data",
          "data": {
            "image/png": "[encoded data removed]",
            "text/plain": [
              "<Figure size 1080x720 with 1 Axes>"
            ]
          },
          "metadata": {
            "needs_background": "light"
          }
        }
      ]
    },
    {
      "cell_type": "markdown",
      "metadata": {
        "id": "Nu4hXPOs7nt1"
      },
      "source": [
        "En este caso, consideramos que los datos son importantes, por lo que no vamos a eliminar ninguno y trabajaremos con ellos."
      ]
    },
    {
      "cell_type": "markdown",
      "metadata": {
        "id": "2SFlg_HHXs7N"
      },
      "source": [
        "##Train-test split"
      ]
    },
    {
      "cell_type": "code",
      "metadata": {
        "id": "lNyo5Nk1J-ch"
      },
      "source": [
        "le = LabelEncoder()"
      ],
      "execution_count": null,
      "outputs": []
    },
    {
      "cell_type": "code",
      "metadata": {
        "colab": {
          "base_uri": "https://localhost:8080/"
        },
        "id": "tKuPocFFZwZE",
        "outputId": "924f5917-a9ce-4097-f4b6-090597b0b7a8"
      },
      "source": [
        "df_train['income2'] = le.fit_transform(df_train.income)\n",
        "df_train.income2"
      ],
      "execution_count": null,
      "outputs": [
        {
          "output_type": "execute_result",
          "data": {
            "text/plain": [
              "ID\n",
              "24451    0\n",
              "985      1\n",
              "30229    1\n",
              "7107     1\n",
              "27639    0\n",
              "        ..\n",
              "29802    0\n",
              "5390     1\n",
              "860      1\n",
              "15795    0\n",
              "23654    0\n",
              "Name: income2, Length: 27635, dtype: int64"
            ]
          },
          "metadata": {},
          "execution_count": 886
        }
      ]
    },
    {
      "cell_type": "code",
      "metadata": {
        "id": "SXZZPZOZWIgQ"
      },
      "source": [
        "X = df_train.drop(['income','income2'], axis = 1)\n",
        "y = df_train.income2"
      ],
      "execution_count": null,
      "outputs": []
    },
    {
      "cell_type": "code",
      "metadata": {
        "id": "X26D0u1kWjOL"
      },
      "source": [
        "X_train, X_test, y_train, y_test = train_test_split(X, y, test_size=0.2, random_state=42, stratify = y)"
      ],
      "execution_count": null,
      "outputs": []
    },
    {
      "cell_type": "markdown",
      "metadata": {
        "id": "SbC0TGAxbqkz"
      },
      "source": [
        "###Escalar la data"
      ]
    },
    {
      "cell_type": "markdown",
      "metadata": {
        "id": "0lxlK3v7cSEV"
      },
      "source": [
        "Cuando los predictores son numéricos, la escala en la que se miden, así como la magnitud de su varianza pueden influir en gran medida en el modelo. Muchos algoritmos de machine learning (SVM, redes neuronales, lasso...) son sensibles a esto, de forma que, si no se igualan de alguna forma los predictores, aquellos que se midan en una escala mayor o que tengan más varianza dominarán el modelo aunque no sean los que más relación tienen con la variable respuesta."
      ]
    },
    {
      "cell_type": "markdown",
      "metadata": {
        "id": "mn3iLmarcMdw"
      },
      "source": [
        "\n",
        "Lo vamos a realizar con normalización (estandarización) que consiste en transformar los datos de forma que todos los predictores estén aproximadamente en la misma escala. Usaremos 'Normalización Z-score' que dividie cada predictor entre su desviación típica después de haber sido centrado, de esta forma, los datos pasan a tener una distribución normal.\n",
        "\n",
        "\n",
        "\n",
        "```\n",
        "StandarScaler()\n",
        "```\n",
        "\n",
        "\n"
      ]
    },
    {
      "cell_type": "code",
      "metadata": {
        "colab": {
          "base_uri": "https://localhost:8080/",
          "height": 238
        },
        "id": "a-PKRrhzbp_H",
        "outputId": "53d47089-3647-44df-c00e-5c71af4b2182"
      },
      "source": [
        "scaler = StandardScaler()\n",
        "columnas_numericas = ['age', 'hours_per_week'] \n",
        "scaler.fit(X_train[columnas_numericas])\n",
        "X_train[columnas_numericas] = scaler.transform(X_train[columnas_numericas])\n",
        "X_train[columnas_numericas].head()"
      ],
      "execution_count": null,
      "outputs": [
        {
          "output_type": "execute_result",
          "data": {
            "text/html": [
              "<div>\n",
              "<style scoped>\n",
              "    .dataframe tbody tr th:only-of-type {\n",
              "        vertical-align: middle;\n",
              "    }\n",
              "\n",
              "    .dataframe tbody tr th {\n",
              "        vertical-align: top;\n",
              "    }\n",
              "\n",
              "    .dataframe thead th {\n",
              "        text-align: right;\n",
              "    }\n",
              "</style>\n",
              "<table border=\"1\" class=\"dataframe\">\n",
              "  <thead>\n",
              "    <tr style=\"text-align: right;\">\n",
              "      <th></th>\n",
              "      <th>age</th>\n",
              "      <th>hours_per_week</th>\n",
              "    </tr>\n",
              "    <tr>\n",
              "      <th>ID</th>\n",
              "      <th></th>\n",
              "      <th></th>\n",
              "    </tr>\n",
              "  </thead>\n",
              "  <tbody>\n",
              "    <tr>\n",
              "      <th>20254</th>\n",
              "      <td>0.833757</td>\n",
              "      <td>-0.035399</td>\n",
              "    </tr>\n",
              "    <tr>\n",
              "      <th>15084</th>\n",
              "      <td>-0.629958</td>\n",
              "      <td>1.982656</td>\n",
              "    </tr>\n",
              "    <tr>\n",
              "      <th>2396</th>\n",
              "      <td>0.614200</td>\n",
              "      <td>-0.035399</td>\n",
              "    </tr>\n",
              "    <tr>\n",
              "      <th>14855</th>\n",
              "      <td>0.101900</td>\n",
              "      <td>-0.035399</td>\n",
              "    </tr>\n",
              "    <tr>\n",
              "      <th>32435</th>\n",
              "      <td>0.394643</td>\n",
              "      <td>0.771823</td>\n",
              "    </tr>\n",
              "  </tbody>\n",
              "</table>\n",
              "</div>"
            ],
            "text/plain": [
              "            age  hours_per_week\n",
              "ID                             \n",
              "20254  0.833757       -0.035399\n",
              "15084 -0.629958        1.982656\n",
              "2396   0.614200       -0.035399\n",
              "14855  0.101900       -0.035399\n",
              "32435  0.394643        0.771823"
            ]
          },
          "metadata": {},
          "execution_count": 890
        }
      ]
    },
    {
      "cell_type": "markdown",
      "metadata": {
        "id": "mQnZeSCOXozb"
      },
      "source": [
        "##Construcción de los modelos"
      ]
    },
    {
      "cell_type": "markdown",
      "metadata": {
        "id": "Sct03ongbD4D"
      },
      "source": [
        "Determinamos nuestra baseline:"
      ]
    },
    {
      "cell_type": "code",
      "metadata": {
        "colab": {
          "base_uri": "https://localhost:8080/"
        },
        "id": "y5tg5m6lTYMc",
        "outputId": "777eb0c2-9438-45ec-cc8f-589bc011076a"
      },
      "source": [
        "df_train.income.value_counts(normalize=True)"
      ],
      "execution_count": null,
      "outputs": [
        {
          "output_type": "execute_result",
          "data": {
            "text/plain": [
              "<=50K    0.757445\n",
              ">50K     0.242555\n",
              "Name: income, dtype: float64"
            ]
          },
          "metadata": {},
          "execution_count": 891
        }
      ]
    },
    {
      "cell_type": "markdown",
      "metadata": {
        "id": "Yksbq4cmLaho"
      },
      "source": [
        "En los siguientes apartados se entrenan diferentes modelos de machine learning con el objetivo de compararlos e identificar el que mejor resultado obtiene prediciendo si las diferentes personas cobran más o menos de 50k dólares anuales."
      ]
    },
    {
      "cell_type": "markdown",
      "metadata": {
        "id": "j-mDCEFYKwWN"
      },
      "source": [
        "###Decision Tree Classifier\n",
        "\n",
        "El aprendizaje de árboles de decisiones o la inducción de árboles de decisiones es uno de los enfoques de modelado predictivo utilizados en estadística , minería de datos y aprendizaje automático . Utiliza un árbol de decisiones (como modelo predictivo ) para pasar de las observaciones sobre un elemento (representado en las ramas) a las conclusiones sobre el valor objetivo del elemento (representado en las hojas). Los modelos de árbol en los que la variable de destino puede tomar un conjunto discreto de valores se denominan árboles de clasificación.\n",
        "\n",
        "\n",
        "\n",
        "\n"
      ]
    },
    {
      "cell_type": "code",
      "metadata": {
        "id": "88WRIf5MYnDt"
      },
      "source": [
        "max_depths = np.arange(1, 15)"
      ],
      "execution_count": null,
      "outputs": []
    },
    {
      "cell_type": "code",
      "metadata": {
        "id": "jnkFUkWCYq1G"
      },
      "source": [
        "score_train = []\n",
        "score_test = []"
      ],
      "execution_count": null,
      "outputs": []
    },
    {
      "cell_type": "code",
      "metadata": {
        "id": "TU2jH_IWZH6R"
      },
      "source": [
        "for deep in max_depths:\n",
        "  clf = DecisionTreeClassifier(max_depth = deep, random_state = 0)\n",
        "  clf.fit(X_train, y_train)\n",
        "  y_train_pred = clf.predict(X_train)\n",
        "  y_test_pred = clf.predict(X_test)\n",
        "\n",
        "  score_train.append(f1_score(y_train, y_train_pred))\n",
        "  score_test.append(f1_score(y_test, y_test_pred))"
      ],
      "execution_count": null,
      "outputs": []
    },
    {
      "cell_type": "code",
      "metadata": {
        "colab": {
          "base_uri": "https://localhost:8080/"
        },
        "id": "ANlBGqdUZ4-U",
        "outputId": "57939e26-66e3-4cc5-f79c-7c4ed0d83390"
      },
      "source": [
        "score_train"
      ],
      "execution_count": null,
      "outputs": [
        {
          "output_type": "execute_result",
          "data": {
            "text/plain": [
              "[0.0,\n",
              " 0.5230298032748263,\n",
              " 0.5230298032748263,\n",
              " 0.5295368620037807,\n",
              " 0.5355827491980516,\n",
              " 0.5836766507070482,\n",
              " 0.5924852268926301,\n",
              " 0.6544426021652199,\n",
              " 0.6721358942187049,\n",
              " 0.6858193074095571,\n",
              " 0.6997755878622305,\n",
              " 0.7211354046797085,\n",
              " 0.7475433924143632,\n",
              " 0.7520388349514564]"
            ]
          },
          "metadata": {},
          "execution_count": 895
        }
      ]
    },
    {
      "cell_type": "code",
      "metadata": {
        "id": "-moUemnWaObt",
        "colab": {
          "base_uri": "https://localhost:8080/"
        },
        "outputId": "e6545784-5cfb-4b9c-90e2-b6489f9b772d"
      },
      "source": [
        "score_test"
      ],
      "execution_count": null,
      "outputs": [
        {
          "output_type": "execute_result",
          "data": {
            "text/plain": [
              "[0.0,\n",
              " 0.5287786616752457,\n",
              " 0.5287786616752457,\n",
              " 0.5431778929188256,\n",
              " 0.5403508771929825,\n",
              " 0.536321483771252,\n",
              " 0.5361990950226244,\n",
              " 0.5759651307596514,\n",
              " 0.5716900549115315,\n",
              " 0.5533742331288343,\n",
              " 0.5305599999999999,\n",
              " 0.541692789968652,\n",
              " 0.5404430705821741,\n",
              " 0.5210943492712861]"
            ]
          },
          "metadata": {},
          "execution_count": 896
        }
      ]
    },
    {
      "cell_type": "code",
      "metadata": {
        "colab": {
          "base_uri": "https://localhost:8080/",
          "height": 500
        },
        "id": "QaiLSFgcZ8xQ",
        "outputId": "11e36da7-cfad-47a2-fa46-79bf3e5489ab"
      },
      "source": [
        "plt.figure(figsize=(8,8))\n",
        "\n",
        "plt.plot(max_depths, score_train, label=\"train\")\n",
        "plt.plot(max_depths, score_test,  label=\"test\")\n",
        "plt.xticks(max_depths)\n",
        "plt.legend()"
      ],
      "execution_count": null,
      "outputs": [
        {
          "output_type": "execute_result",
          "data": {
            "text/plain": [
              "<matplotlib.legend.Legend at 0x7fb15f1e3990>"
            ]
          },
          "metadata": {},
          "execution_count": 897
        },
        {
          "output_type": "display_data",
          "data": {
            "image/png": "[encoded data removed]",
            "text/plain": [
              "<Figure size 576x576 with 1 Axes>"
            ]
          },
          "metadata": {
            "needs_background": "light"
          }
        }
      ]
    },
    {
      "cell_type": "code",
      "metadata": {
        "id": "dXh8eI_QKTwm"
      },
      "source": [
        "tree = DecisionTreeClassifier(max_depth= 6, random_state=0)"
      ],
      "execution_count": null,
      "outputs": []
    },
    {
      "cell_type": "code",
      "metadata": {
        "id": "YUl-fFAeKVVL"
      },
      "source": [
        "tree.fit(X_train, y_train)\n",
        "y_pred = tree.predict(X_test)"
      ],
      "execution_count": null,
      "outputs": []
    },
    {
      "cell_type": "code",
      "metadata": {
        "colab": {
          "base_uri": "https://localhost:8080/"
        },
        "id": "B6qHFZcNKZ4I",
        "outputId": "bdd10e29-a00d-4ca3-ed37-f9607e8d2cb0"
      },
      "source": [
        "round(accuracy_score(y_test, y_pred),4)"
      ],
      "execution_count": null,
      "outputs": [
        {
          "output_type": "execute_result",
          "data": {
            "text/plain": [
              "0.7829"
            ]
          },
          "metadata": {},
          "execution_count": 933
        }
      ]
    },
    {
      "cell_type": "code",
      "metadata": {
        "colab": {
          "base_uri": "https://localhost:8080/",
          "height": 279
        },
        "id": "fTP7mFzQKdAX",
        "outputId": "4588deb0-87b2-4975-f4da-5cb94860828a"
      },
      "source": [
        "plot_confusion_matrix(tree, X_test, y_test, values_format = '.2f')\n",
        "plt.show()"
      ],
      "execution_count": null,
      "outputs": [
        {
          "output_type": "display_data",
          "data": {
            "image/png": "[encoded data removed]",
            "text/plain": [
              "<Figure size 432x288 with 2 Axes>"
            ]
          },
          "metadata": {
            "needs_background": "light"
          }
        }
      ]
    },
    {
      "cell_type": "markdown",
      "metadata": {
        "id": "F4zI6epOK4sy"
      },
      "source": [
        "###KNN (k-nearest neighbors) Classifier \n",
        "\n",
        "K-Nearest Neighbor es uno de los algoritmos de machine learning más simples. Su funcionamiento es el siguiente: para predecir una observación se identifican las K observaciones del conjunto de entrenamiento que más se asemejan a ella (en base a sus predictores) y se emplea como valor predicho el promedio de la variable respuesta en dichas observaciones. Dada su sencillez, suele dar peores resultados que otros algoritmos, pero es un buen referente como baseline."
      ]
    },
    {
      "cell_type": "code",
      "metadata": {
        "id": "At-aK9RcdiGD"
      },
      "source": [
        "max_neigh = np.arange(1, 15)\n",
        "score_neigh_train = []\n",
        "score_neigh_test = []\n",
        "\n",
        "for neigb in max_neigh:\n",
        "  neighbor =  KNeighborsClassifier(n_neighbors=neigb, weights=\"uniform\", n_jobs= -1)\n",
        "  neighbor.fit(X_train, y_train)\n",
        "  y_train_pred_neigh = neighbor.predict(X_train)\n",
        "  y_test_pred_neigh = neighbor.predict(X_test)\n",
        "\n",
        "  score_neigh_train.append(accuracy_score(y_train, y_train_pred_neigh))\n",
        "  score_neigh_test.append(accuracy_score(y_test, y_test_pred_neigh))"
      ],
      "execution_count": null,
      "outputs": []
    },
    {
      "cell_type": "code",
      "metadata": {
        "colab": {
          "base_uri": "https://localhost:8080/",
          "height": 483
        },
        "id": "wbKBltRkdsnS",
        "outputId": "9eb514c4-2dab-4ed4-daa8-2d102ee53274"
      },
      "source": [
        "plt.figure(figsize=(8,8))\n",
        "\n",
        "plt.plot(max_neigh, score_neigh_train, label=\"train\")\n",
        "plt.plot(max_neigh, score_neigh_test,  label=\"test\")\n",
        "plt.xticks(max_neigh)\n",
        "plt.legend()\n",
        "plt.show()"
      ],
      "execution_count": null,
      "outputs": [
        {
          "output_type": "display_data",
          "data": {
            "image/png": "[encoded data removed]",
            "text/plain": [
              "<Figure size 576x576 with 1 Axes>"
            ]
          },
          "metadata": {
            "needs_background": "light"
          }
        }
      ]
    },
    {
      "cell_type": "code",
      "metadata": {
        "id": "9sp7lz4yLBpQ"
      },
      "source": [
        "neigh = KNeighborsClassifier(n_neighbors= 8, weights=\"uniform\", n_jobs= -1)"
      ],
      "execution_count": null,
      "outputs": []
    },
    {
      "cell_type": "code",
      "metadata": {
        "colab": {
          "base_uri": "https://localhost:8080/"
        },
        "id": "l_Q8DeiMLL8y",
        "outputId": "14d83d61-8fc2-4bd9-b9e8-29b088feb58a"
      },
      "source": [
        "neigh.fit(X_train, y_train)"
      ],
      "execution_count": null,
      "outputs": [
        {
          "output_type": "execute_result",
          "data": {
            "text/plain": [
              "KNeighborsClassifier(algorithm='auto', leaf_size=30, metric='minkowski',\n",
              "                     metric_params=None, n_jobs=-1, n_neighbors=8, p=2,\n",
              "                     weights='uniform')"
            ]
          },
          "metadata": {},
          "execution_count": 924
        }
      ]
    },
    {
      "cell_type": "code",
      "metadata": {
        "id": "S3YXbiqCLN1n"
      },
      "source": [
        "pred_train = neigh.predict(X_train)\n",
        "pred_test = neigh.predict(X_test)"
      ],
      "execution_count": null,
      "outputs": []
    },
    {
      "cell_type": "code",
      "metadata": {
        "colab": {
          "base_uri": "https://localhost:8080/"
        },
        "id": "bmfiIBQJLQG0",
        "outputId": "c4364cd5-a2b1-4a6e-bfd8-2c1dbaf4e7c2"
      },
      "source": [
        "accuracy_score(y_train, pred_train)"
      ],
      "execution_count": null,
      "outputs": [
        {
          "output_type": "execute_result",
          "data": {
            "text/plain": [
              "0.8576081056631084"
            ]
          },
          "metadata": {},
          "execution_count": 926
        }
      ]
    },
    {
      "cell_type": "code",
      "metadata": {
        "colab": {
          "base_uri": "https://localhost:8080/"
        },
        "id": "T84kpnccLUI3",
        "outputId": "86460b32-be19-40f6-b058-e8ba572b047a"
      },
      "source": [
        "accuracy_score(y_test, pred_test)"
      ],
      "execution_count": null,
      "outputs": [
        {
          "output_type": "execute_result",
          "data": {
            "text/plain": [
              "0.7553826669079067"
            ]
          },
          "metadata": {},
          "execution_count": 927
        }
      ]
    },
    {
      "cell_type": "markdown",
      "metadata": {
        "id": "2C27Gfk9LE9U"
      },
      "source": [
        "###Random Forest\n",
        "Un modelo Random Forest está formado por un conjunto de árboles de decisión individuales, cada uno entrenado con una muestra ligeramente distinta de los datos de entrenamiento generada mediante bootstrapping). La predicción de una nueva observación se obtiene agregando las predicciones de todos los árboles individuales que forman el modelo.\n"
      ]
    },
    {
      "cell_type": "code",
      "metadata": {
        "colab": {
          "base_uri": "https://localhost:8080/"
        },
        "id": "mkY5noWjL8tj",
        "outputId": "ddc20b77-2dda-4ca7-c6a0-712f398df040"
      },
      "source": [
        "rf = RandomForestClassifier(max_depth = 8)\n",
        "rf.fit(X_train, y_train)\n",
        "y_predict = rf.predict(X_test)\n",
        "\n",
        "print('Accuracy Score of Random Forest : ', accuracy_score(y_test, y_predict))\n",
        "confusion_matrix(y_test, y_pred)"
      ],
      "execution_count": null,
      "outputs": [
        {
          "output_type": "stream",
          "name": "stdout",
          "text": [
            "Accuracy Score of Random Forest :  0.8252216392256196\n"
          ]
        },
        {
          "output_type": "execute_result",
          "data": {
            "text/plain": [
              "array([[3633,  553],\n",
              "       [ 647,  694]])"
            ]
          },
          "metadata": {},
          "execution_count": 934
        }
      ]
    },
    {
      "cell_type": "code",
      "metadata": {
        "colab": {
          "base_uri": "https://localhost:8080/",
          "height": 279
        },
        "id": "fQGsnBJzL_EZ",
        "outputId": "138025c7-b8fa-4c92-ba05-4a2b1331eb07"
      },
      "source": [
        "plot_confusion_matrix(rf, X_test, y_test, values_format = '.2f')\n",
        "plt.show()"
      ],
      "execution_count": null,
      "outputs": [
        {
          "output_type": "display_data",
          "data": {
            "image/png": "[encoded data removed]",
            "text/plain": [
              "<Figure size 432x288 with 2 Axes>"
            ]
          },
          "metadata": {
            "needs_background": "light"
          }
        }
      ]
    },
    {
      "cell_type": "markdown",
      "metadata": {
        "id": "0akmC7gmhilG"
      },
      "source": [
        "###Predicción Final"
      ]
    },
    {
      "cell_type": "markdown",
      "metadata": {
        "id": "0M_C-ZT2f_Je"
      },
      "source": [
        "Basándonos en los resultados obtenidos en las métricas, nos decidimos por utilizar el modelo Random-Forest para nuestra predicción final."
      ]
    },
    {
      "cell_type": "code",
      "metadata": {
        "colab": {
          "base_uri": "https://localhost:8080/"
        },
        "id": "0B2Vs2XBhoZw",
        "outputId": "74c60152-fb3f-4e42-a47f-b33d3b9c0d41"
      },
      "source": [
        "prediccion = rf.predict(df_test)\n",
        "prediccion"
      ],
      "execution_count": null,
      "outputs": [
        {
          "output_type": "execute_result",
          "data": {
            "text/plain": [
              "array([0, 0, 0, ..., 0, 0, 0])"
            ]
          },
          "metadata": {},
          "execution_count": 935
        }
      ]
    },
    {
      "cell_type": "code",
      "metadata": {
        "colab": {
          "base_uri": "https://localhost:8080/",
          "height": 455
        },
        "id": "H0M5CWkkyHFT",
        "outputId": "2faba1f3-439d-4925-c9b1-e01fe17ea890"
      },
      "source": [
        "df_prediccion = pd.DataFrame(data = prediccion, index = df_test.index, columns = ['income'], copy = True)\n",
        "df_prediccion"
      ],
      "execution_count": null,
      "outputs": [
        {
          "output_type": "execute_result",
          "data": {
            "text/html": [
              "<div>\n",
              "<style scoped>\n",
              "    .dataframe tbody tr th:only-of-type {\n",
              "        vertical-align: middle;\n",
              "    }\n",
              "\n",
              "    .dataframe tbody tr th {\n",
              "        vertical-align: top;\n",
              "    }\n",
              "\n",
              "    .dataframe thead th {\n",
              "        text-align: right;\n",
              "    }\n",
              "</style>\n",
              "<table border=\"1\" class=\"dataframe\">\n",
              "  <thead>\n",
              "    <tr style=\"text-align: right;\">\n",
              "      <th></th>\n",
              "      <th>income</th>\n",
              "    </tr>\n",
              "    <tr>\n",
              "      <th>ID</th>\n",
              "      <th></th>\n",
              "    </tr>\n",
              "  </thead>\n",
              "  <tbody>\n",
              "    <tr>\n",
              "      <th>3643</th>\n",
              "      <td>0</td>\n",
              "    </tr>\n",
              "    <tr>\n",
              "      <th>16036</th>\n",
              "      <td>0</td>\n",
              "    </tr>\n",
              "    <tr>\n",
              "      <th>9401</th>\n",
              "      <td>0</td>\n",
              "    </tr>\n",
              "    <tr>\n",
              "      <th>17903</th>\n",
              "      <td>1</td>\n",
              "    </tr>\n",
              "    <tr>\n",
              "      <th>5198</th>\n",
              "      <td>1</td>\n",
              "    </tr>\n",
              "    <tr>\n",
              "      <th>...</th>\n",
              "      <td>...</td>\n",
              "    </tr>\n",
              "    <tr>\n",
              "      <th>19468</th>\n",
              "      <td>0</td>\n",
              "    </tr>\n",
              "    <tr>\n",
              "      <th>7554</th>\n",
              "      <td>1</td>\n",
              "    </tr>\n",
              "    <tr>\n",
              "      <th>25076</th>\n",
              "      <td>0</td>\n",
              "    </tr>\n",
              "    <tr>\n",
              "      <th>9731</th>\n",
              "      <td>0</td>\n",
              "    </tr>\n",
              "    <tr>\n",
              "      <th>25258</th>\n",
              "      <td>0</td>\n",
              "    </tr>\n",
              "  </tbody>\n",
              "</table>\n",
              "<p>4881 rows × 1 columns</p>\n",
              "</div>"
            ],
            "text/plain": [
              "       income\n",
              "ID           \n",
              "3643        0\n",
              "16036       0\n",
              "9401        0\n",
              "17903       1\n",
              "5198        1\n",
              "...       ...\n",
              "19468       0\n",
              "7554        1\n",
              "25076       0\n",
              "9731        0\n",
              "25258       0\n",
              "\n",
              "[4881 rows x 1 columns]"
            ]
          },
          "metadata": {},
          "execution_count": 949
        }
      ]
    },
    {
      "cell_type": "code",
      "metadata": {
        "id": "hguQoAKi2Fpv"
      },
      "source": [
        "df_prediccion.to_csv('prediccion.csv')\n",
        "!cp prediccion.csv \"drive/My Drive/Data Science ICARO/Projects/\""
      ],
      "execution_count": null,
      "outputs": []
    },
    {
      "cell_type": "markdown",
      "metadata": {
        "id": "Qr5fHla_XyuD"
      },
      "source": [
        "##Conclusión"
      ]
    },
    {
      "cell_type": "markdown",
      "metadata": {
        "id": "jZ9-yJlN2yYa"
      },
      "source": [
        "En el análisis exploratorio, pareciera surgir una tendencia clara de que la variable con más peso a la hora de predecir los ingresos sería 'Education'.\n",
        "\n",
        "Finalmente, luego de investigar y que se nos presenten problemas que fuimos resolviendo, terminamos el trabajo. Elegimos el modelo \"Random Forest\" debido a que obtuvimos la mejor métrica de acuerdo a nuestro procesamiento de datos realizado. En los modelos de \"Decision Tree\" y, especialmente en \"KNN Classifier\", nos encontramos con resultados que apenas superan el baseline, por lo que no nos resultaban útiles en nuestro análisis.\n",
        "\n"
      ]
    }
  ]
}